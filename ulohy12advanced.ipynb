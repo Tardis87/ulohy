{
 "cells": [
  {
   "cell_type": "markdown",
   "id": "a335dbd7",
   "metadata": {},
   "source": [
    "⭐ **Úloha 01**\n",
    "\n",
    "Vytvor list so zmiešanými dátovými typmi (stringy, čísla, booleany). Roztrieď ich do samostatných listov podľa typu a printni nové listy."
   ]
  },
  {
   "cell_type": "code",
   "execution_count": 19,
   "id": "0c16e008",
   "metadata": {},
   "outputs": [
    {
     "name": "stdout",
     "output_type": "stream",
     "text": [
      "[True, False, True, 5, 78, 8.14, 42.0, 'auto', 'pampi']\n",
      "Toto su stringy ['auto', 'pampi']\n",
      "Toto su floaty [8.14, 42.0]\n",
      "Toto su intengery [5, 78]\n",
      "Toto su booleany [True, False, True]\n"
     ]
    }
   ],
   "source": [
    "rozne_listy = [True, False, True, 5, 78, 8.14, 42.0, \"auto\", \"pampi\"]\n",
    "\n",
    "print(rozne_listy)\n",
    "\n",
    "stringy = []\n",
    "floaty = []\n",
    "cele_cisla = []\n",
    "booleany = []\n",
    "\n",
    "for x in rozne_listy:\n",
    "    if isinstance(x, str):\n",
    "        stringy.append(x)\n",
    "    elif isinstance(x, float):\n",
    "        floaty.append(x)\n",
    "    elif isinstance(x, bool):\n",
    "        booleany.append(x) \n",
    "    elif isinstance(x, int):\n",
    "        cele_cisla.append(x)\n",
    "     \n",
    "\n",
    "    \n",
    "print(\"Toto su stringy\", stringy)\n",
    "print(\"Toto su floaty\", floaty)\n",
    "print(\"Toto su intengery\", cele_cisla)\n",
    "print(\"Toto su booleany\", booleany)\n",
    "\n",
    "#Poznámka: V Pythone sú bool hodnoty ( True a False ) podtriedami int. \n",
    "#Preto je dôležité testovať bool pred int, aby ste sa uistili, že sú správne roztriedené.\n",
    "#zistila som ked uz bol damage done :D"
   ]
  },
  {
   "cell_type": "markdown",
   "id": "dee07006",
   "metadata": {},
   "source": [
    "⭐ **Úloha 02**\n",
    "\n",
    "Vytvor dictionary s názvami miest a ich počtom obyvateľov. Nájdi a printni všetky mestá s populáciou nad 1 milión."
   ]
  },
  {
   "cell_type": "code",
   "execution_count": null,
   "id": "fa04f90a",
   "metadata": {},
   "outputs": [
    {
     "name": "stdout",
     "output_type": "stream",
     "text": [
      "Wakanda\n",
      "Galiffrey\n"
     ]
    }
   ],
   "source": [
    "udaje = [\n",
    "    {\"mesto\": \"Bratislava\", \"pocet_obyvatelov\": 500000},\n",
    "    {\"mesto\": \"Wakanda\", \"pocet_obyvatelov\": 254658541},\n",
    "    {\"mesto\": \"Galiffrey\", \"pocet_obyvatelov\": 879654123},\n",
    "    {\"mesto\": \"Svidnik\", \"pocet_obyvatelov\": 15000}\n",
    "    ]\n",
    "\n",
    "hranica = 1000000\n",
    "\n",
    "for x in udaje:\n",
    "    if x[\"pocet_obyvatelov\"] > hranica:\n",
    "        print(x[\"mesto\"])\n",
    "\n",
    "\n",
    "# tu som na seba hrda :D \n",
    "# cekni vsetko v dictionary, a ak je udaj v pocte obyvatelov viac ako milion, vytlac mesto        \n",
    "        \n"
   ]
  },
  {
   "cell_type": "markdown",
   "id": "313441e4",
   "metadata": {},
   "source": [
    "⭐ **Úloha 03**\n",
    "\n",
    "Vytvor tuple reprezentujúci RGB farebné hodnoty (0-255). Zisti, či reprezentuje odtieň sivej."
   ]
  },
  {
   "cell_type": "code",
   "execution_count": 33,
   "id": "319abc3a",
   "metadata": {},
   "outputs": [
    {
     "name": "stdout",
     "output_type": "stream",
     "text": [
      "Farba (150, 150, 151) nie je siva.\n"
     ]
    }
   ],
   "source": [
    "\n",
    "\n",
    "color = (150, 150, 151)\n",
    "# siva vraj ked su vsetky tri rovnake hodnoty\n",
    "\n",
    "\n",
    "\n",
    "\n",
    "if color[0] == color[1] and color[1] == color[2]:\n",
    "    print(f\"Farba {color} siva.\")\n",
    "else:\n",
    "    print(f\"Farba {color} nie je siva.\")\n",
    "\n"
   ]
  },
  {
   "cell_type": "markdown",
   "id": "92f27f43",
   "metadata": {},
   "source": [
    "⭐ **Úloha 04**\n",
    "\n",
    "`Matrix` v Python je list listov obsahujúci rovnaký počet položiek rovnakého typu (napr. čísel). Vytvor niekoľko vzorových listov listov a použi control flows na to, aby si zistila, či sú to matrixy (matice)."
   ]
  },
  {
   "cell_type": "code",
   "execution_count": null,
   "id": "e27cbb2a",
   "metadata": {},
   "outputs": [],
   "source": []
  },
  {
   "cell_type": "markdown",
   "id": "beaed937",
   "metadata": {},
   "source": [
    "⭐ **Úloha 05**\n",
    "\n",
    "Uvažuj list `[1, 2, 3, 4, 3, 2, 3, 7]`. Zbav sa všetkých duplikátov bez použitia control flows. Vypíš počet duplikátov."
   ]
  },
  {
   "cell_type": "code",
   "execution_count": 45,
   "id": "b4fda7f3",
   "metadata": {},
   "outputs": [
    {
     "name": "stdout",
     "output_type": "stream",
     "text": [
      "toto je pocet cisel v originalnom zozname: 8\n",
      "toto je zoznam bez duplikatov {1, 2, 3, 4, 7}\n",
      "toto je pocet zoznamu bez duplikatov: 5\n",
      "toto je pocet duplikatov: 3\n"
     ]
    }
   ],
   "source": [
    "moj_zoznam = [1, 2, 3, 4, 3, 2, 3, 7]\n",
    "\n",
    "pocet_cisel = len(moj_zoznam)\n",
    "print(\"toto je pocet cisel v originalnom zozname:\", pocet_cisel)\n",
    "\n",
    "bez_duplikatov = set(moj_zoznam)\n",
    "print(\"toto je zoznam bez duplikatov\", bez_duplikatov)\n",
    "\n",
    "pocet_bez = len(bez_duplikatov)\n",
    "print(\"toto je pocet zoznamu bez duplikatov:\", pocet_bez)\n",
    "\n",
    "vysledok = pocet_cisel - pocet_bez\n",
    "\n",
    "print(\"toto je pocet duplikatov:\", vysledok)\n",
    "\n",
    "\n",
    "\n",
    "\n"
   ]
  },
  {
   "cell_type": "markdown",
   "id": "3a55578a",
   "metadata": {},
   "source": [
    "⭐ **Úloha 06**\n",
    "\n",
    "Vytvor set z 10 random mien. Použi control flows na nájdenie všetkých mien, ktoré obsahujú písmeno `a`."
   ]
  },
  {
   "cell_type": "code",
   "execution_count": 53,
   "id": "8b33415f",
   "metadata": {},
   "outputs": [
    {
     "name": "stdout",
     "output_type": "stream",
     "text": [
      "Adela\n",
      "matej\n",
      "Andrea\n",
      "jakub\n",
      "marha\n"
     ]
    }
   ],
   "source": [
    "names = {\"Andrea\", \"matej\", \"Adela\", \"ondro\", \"jakub\", \"timcik\", \"marha\", \"Andrea\"}\n",
    "\n",
    "\n",
    "for x in names:\n",
    "    if x.__contains__(\"a\"):\n",
    "        print(x)\n",
    "    "
   ]
  },
  {
   "cell_type": "markdown",
   "id": "aaa465e2",
   "metadata": {},
   "source": [
    "⭐ **Úloha 07**\n",
    "\n",
    "\n",
    "Vytvor list integerov medzi 1 a 50. Zisti, koľko z nich sú prvočísla."
   ]
  },
  {
   "cell_type": "code",
   "execution_count": null,
   "id": "43a81e78",
   "metadata": {},
   "outputs": [],
   "source": [
    "cisla = [1, 8, 50, 67, 13, 25, 6, 42]\n",
    "\n",
    "for x in cisla:\n",
    "    if x "
   ]
  },
  {
   "cell_type": "code",
   "execution_count": null,
   "id": "cab55784",
   "metadata": {},
   "outputs": [
    {
     "name": "stdout",
     "output_type": "stream",
     "text": [
      "List čísel od 1 do 50: [1, 2, 3, 4, 5, 6, 7, 8, 9, 10, 11, 12, 13, 14, 15, 16, 17, 18, 19, 20, 21, 22, 23, 24, 25, 26, 27, 28, 29, 30, 31, 32, 33, 34, 35, 36, 37, 38, 39, 40, 41, 42, 43, 44, 45, 46, 47, 48, 49, 50]\n",
      "V zozname je 15 prvočísel.\n",
      "Tieto prvočísla sú: [2, 3, 5, 7, 11, 13, 17, 19, 23, 29, 31, 37, 41, 43, 47]\n"
     ]
    }
   ],
   "source": [
    "\n",
    "# Toto cele je len cisto AI, som netusila ako to spravit\n",
    "# 1. Vytvorenie listu celých čísel od 1 do 50\n",
    "cisla = list(range(1, 51))\n",
    "\n",
    "# Premenná na počítanie prvočísel\n",
    "pocet_prvocisel = 0\n",
    "prvocisla = [] # volitelne, pre zobrazenie, ktore cisla su prvocisla\n",
    "\n",
    "# 2. Prechádzanie listom a kontrola každého čísla\n",
    "for cislo in cisla:\n",
    "    # 1 nie je prvočíslo\n",
    "    if cislo <= 1:\n",
    "        continue\n",
    "\n",
    "    # Predpokladajme, že číslo je prvočíslo\n",
    "    je_prvocislo = True\n",
    "    \n",
    "    # Vnorený cyklus na kontrolu deliteľov\n",
    "    for i in range(2, cislo):\n",
    "        if cislo % i == 0:\n",
    "            je_prvocislo = False\n",
    "            break # Nájdený deliteľ, už nemusíme ďalej kontrolovať\n",
    "\n",
    "    # Ak je číslo prvočíslo (nikdy sme nenastavili je_prvocislo na False)\n",
    "    if je_prvocislo:\n",
    "        pocet_prvocisel += 1\n",
    "        prvocisla.append(cislo)\n",
    "\n",
    "# 3. Vypísanie výsledku\n",
    "print(f\"List čísel od 1 do 50: {cisla}\")\n",
    "print(f\"V zozname je {pocet_prvocisel} prvočísel.\")\n",
    "print(f\"Tieto prvočísla sú: {prvocisla}\")\n"
   ]
  },
  {
   "cell_type": "markdown",
   "id": "813eea88",
   "metadata": {},
   "source": [
    "**Úloha 08**\n",
    "\n",
    "\n",
    "Vytvor string s tvojím celým menom. Printni svoje iniciálky"
   ]
  },
  {
   "cell_type": "code",
   "execution_count": null,
   "id": "5e0fb109",
   "metadata": {},
   "outputs": [
    {
     "name": "stdout",
     "output_type": "stream",
     "text": [
      "['Andrea', 'Strouhalova']\n",
      "None\n"
     ]
    }
   ],
   "source": [
    "moje_meno = \"Andrea Strouhalova\"\n",
    "x = moje_meno.split()\n",
    "print(x)\n",
    "\n",
    "\n",
    "\n"
   ]
  }
 ],
 "metadata": {
  "kernelspec": {
   "display_name": "Python 3",
   "language": "python",
   "name": "python3"
  },
  "language_info": {
   "codemirror_mode": {
    "name": "ipython",
    "version": 3
   },
   "file_extension": ".py",
   "mimetype": "text/x-python",
   "name": "python",
   "nbconvert_exporter": "python",
   "pygments_lexer": "ipython3",
   "version": "3.12.2"
  }
 },
 "nbformat": 4,
 "nbformat_minor": 5
}
