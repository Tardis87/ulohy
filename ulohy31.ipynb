{
 "cells": [
  {
   "cell_type": "markdown",
   "id": "3d7ae0dc",
   "metadata": {},
   "source": [
    "# Na hodinu"
   ]
  },
  {
   "cell_type": "markdown",
   "id": "9366f284",
   "metadata": {},
   "source": [
    "Uloha 1"
   ]
  },
  {
   "cell_type": "code",
   "execution_count": 1,
   "id": "b5e7eaa4",
   "metadata": {},
   "outputs": [
    {
     "name": "stdout",
     "output_type": "stream",
     "text": [
      "Počiatočná výška: 10 m\n",
      "----------------------------------------\n",
      "Skok 0: 10.000 m\n",
      "Skok 1: 6.000 m\n",
      "Skok 2: 3.600 m\n",
      "Skok 3: 2.160 m\n",
      "Skok 4: 1.296 m\n",
      "Skok 5: 0.778 m\n",
      "\n",
      "========================================\n",
      "\n",
      "Odrazivejšia lopta (koeficient 0.8):\n",
      "Výška 3. skoku z 10m: 5.120 m\n"
     ]
    }
   ],
   "source": [
    "class Ball:\n",
    "    def __init__(self, bounce_factor=0.6):\n",
    "       \n",
    "        self.bounce_factor = bounce_factor\n",
    "    \n",
    "    def hop_height(self, h, k):\n",
    "        \n",
    "        if k < 0:\n",
    "            raise ValueError(\"Číslo skoku musí byť nezáporné\")\n",
    "        \n",
    "        # Výška klesá exponenciálne: h * (bounce_factor)^k\n",
    "        return h * (self.bounce_factor ** k)\n",
    "\n",
    "\n",
    "# Príklad použitia\n",
    "if __name__ == \"__main__\":\n",
    "    # Vytvoríme loptu s koeficientom odrazu 0.6 (60%)\n",
    "    ball = Ball(bounce_factor=0.6)\n",
    "    \n",
    "    # Počiatočná výška\n",
    "    initial_height = 10  # metre\n",
    "    \n",
    "    print(f\"Počiatočná výška: {initial_height} m\")\n",
    "    print(\"-\" * 40)\n",
    "    \n",
    "    # Vypočítame prvých 5 skokov\n",
    "    for k in range(6):\n",
    "        height = ball.hop_height(initial_height, k)\n",
    "        print(f\"Skok {k}: {height:.3f} m\")\n",
    "    \n",
    "    print(\"\\n\" + \"=\" * 40)\n",
    "    \n",
    "    # Príklad s inou loptou (vyššia odrazivosť)\n",
    "    bouncy_ball = Ball(bounce_factor=0.8)\n",
    "    print(f\"\\nOdrazivejšia lopta (koeficient 0.8):\")\n",
    "    print(f\"Výška 3. skoku z 10m: {bouncy_ball.hop_height(10, 3):.3f} m\")"
   ]
  },
  {
   "cell_type": "markdown",
   "id": "f864914d",
   "metadata": {},
   "source": [
    "Uloha 2\n",
    "\n",
    "Vytvor class `Dice` s atribútom pre počet strán (predvolene 6). Pridaj metódu `roll`, ktorá vráti náhodné číslo medzi 1 a počtom strán. Vytvor dve kocky a simuluj 100 hodov, pričom sleduj zaujímavé statistiky, ako napríklad ktorá kocka hodila v priemere viac, rozdelenie hodených čísel celkovo atď. (Buď kreatívna!)"
   ]
  },
  {
   "cell_type": "code",
   "execution_count": 9,
   "id": "adf732ec",
   "metadata": {},
   "outputs": [
    {
     "name": "stdout",
     "output_type": "stream",
     "text": [
      "Simulácia hodov dvoma kockami:\n",
      "Priemer hodení kocky 1: 3.6\n",
      "Priemer hodení kocky 2: 3.5\n"
     ]
    }
   ],
   "source": [
    "class Dice:\n",
    "    def __init__(self, sides=6):\n",
    "        self.sides = sides\n",
    "    \n",
    "    def roll(self):\n",
    "        import random\n",
    "        return random.randint(1, self.sides)\n",
    "print(\"Simulácia hodov dvoma kockami:\")\n",
    "dice1 = Dice()\n",
    "dice2 = Dice()\n",
    "rolls_dice1 = []\n",
    "rolls_dice2 = []\n",
    "for x in range(100):\n",
    "    rolls_dice1.append(dice1.roll())\n",
    "    rolls_dice2.append(dice2.roll())\n",
    "average_dice1 = sum(rolls_dice1) / len(rolls_dice1)\n",
    "average_dice2 = sum(rolls_dice2) / len(rolls_dice2)\n",
    "print(f\"Priemer hodení kocky 1: {average_dice1}\")\n",
    "print(f\"Priemer hodení kocky 2: {average_dice2}\")"
   ]
  },
  {
   "cell_type": "markdown",
   "id": "5b33d948",
   "metadata": {},
   "source": [
    "Uloha 3\n",
    "\n",
    "Vytvor hru \"hádaj číslo\", kde počítač vyberie náhodné číslo medzi 1 a 100. Hráčka má 7 pokusov. Po každom hádaní jej povedz, či je \"veľmi ďaleko\" (20+ preč), \"ďaleko\" (10-19 preč), \"blízko\" (5-9 preč), alebo \"veľmi blízko\" (1-4 preč). Použi while cykly a break/continue vhodne. (Tip: Použi Python [input()](https://www.w3schools.com/python/python_user_input.asp) na zber vstupu od hráčov.)"
   ]
  },
  {
   "cell_type": "code",
   "execution_count": 23,
   "id": "8e3c6833",
   "metadata": {},
   "outputs": [
    {
     "ename": "NameError",
     "evalue": "name 'self' is not defined",
     "output_type": "error",
     "traceback": [
      "\u001b[1;31m---------------------------------------------------------------------------\u001b[0m",
      "\u001b[1;31mNameError\u001b[0m                                 Traceback (most recent call last)",
      "Cell \u001b[1;32mIn[23], line 1\u001b[0m\n\u001b[1;32m----> 1\u001b[0m \u001b[38;5;28;43;01mclass\u001b[39;49;00m\u001b[43m \u001b[49m\u001b[38;5;21;43;01mHraj\u001b[39;49;00m\u001b[43m:\u001b[49m\n\u001b[0;32m      2\u001b[0m \u001b[43m    \u001b[49m\u001b[38;5;28;43;01mdef\u001b[39;49;00m\u001b[43m \u001b[49m\u001b[38;5;21;43m__init__\u001b[39;49m\u001b[43m(\u001b[49m\u001b[38;5;28;43mself\u001b[39;49m\u001b[43m,\u001b[49m\u001b[43m \u001b[49m\u001b[43mpokusy\u001b[49m\u001b[38;5;241;43m=\u001b[39;49m\u001b[38;5;241;43m7\u001b[39;49m\u001b[43m)\u001b[49m\u001b[43m:\u001b[49m\n\u001b[0;32m      3\u001b[0m \u001b[43m        \u001b[49m\u001b[38;5;28;43;01mimport\u001b[39;49;00m\u001b[43m \u001b[49m\u001b[38;5;21;43;01mrandom\u001b[39;49;00m\n",
      "Cell \u001b[1;32mIn[23], line 7\u001b[0m, in \u001b[0;36mHraj\u001b[1;34m()\u001b[0m\n\u001b[0;32m      4\u001b[0m     \u001b[38;5;28mself\u001b[39m\u001b[38;5;241m.\u001b[39mcislo \u001b[38;5;241m=\u001b[39m random\u001b[38;5;241m.\u001b[39mrandint(\u001b[38;5;241m1\u001b[39m, \u001b[38;5;241m100\u001b[39m)\n\u001b[0;32m      5\u001b[0m     \u001b[38;5;28mself\u001b[39m\u001b[38;5;241m.\u001b[39mpokusy \u001b[38;5;241m=\u001b[39m pokusy\n\u001b[1;32m----> 7\u001b[0m \u001b[38;5;28;01mwhile\u001b[39;00m x \u001b[38;5;129;01min\u001b[39;00m \u001b[38;5;28;43mself\u001b[39;49m\u001b[38;5;241m.\u001b[39mcislo \u001b[38;5;241m>\u001b[39m\u001b[38;5;241m=\u001b[39m \u001b[38;5;241m20\u001b[39m:\n\u001b[0;32m      8\u001b[0m     \u001b[38;5;28mprint\u001b[39m(\u001b[38;5;124m\"\u001b[39m\u001b[38;5;124mVeľmi ďaleko\u001b[39m\u001b[38;5;124m\"\u001b[39m)\n\u001b[0;32m      9\u001b[0m \u001b[38;5;28;01mif\u001b[39;00m cislo \u001b[38;5;129;01min\u001b[39;00m \u001b[38;5;28mself\u001b[39m\u001b[38;5;241m.\u001b[39mcislo \u001b[38;5;241m>\u001b[39m\u001b[38;5;241m=\u001b[39m \u001b[38;5;241m10\u001b[39m:\n",
      "\u001b[1;31mNameError\u001b[0m: name 'self' is not defined"
     ]
    }
   ],
   "source": [
    "class Hraj:\n",
    "    def __init__(self, pokusy=7):\n",
    "        import random\n",
    "        self.cislo = random.randint(1, 100)\n",
    "        self.pokusy = pokusy\n",
    "        \n",
    "    while x in self.cislo >= 20:\n",
    "        print(\"Veľmi ďaleko\")\n",
    "    if cislo in self.cislo >= 10:\n",
    "        print(\"Ďaleko\")\n",
    "    if cislo in self.cislo >= 5:\n",
    "        print(\"Blízko\")\n",
    "    if cislo in self.cislo >= 1:\n",
    "        print(\"Veľmi blízko\")\n",
    "        self.pokusy -= 1\n",
    "\n",
    "hra1 = Hraj()\n",
    "print(hra1.cislo)\n",
    "\n",
    "        \n",
    "        \n",
    "    "
   ]
  },
  {
   "cell_type": "code",
   "execution_count": 24,
   "id": "4f0f66d1",
   "metadata": {},
   "outputs": [
    {
     "name": "stdout",
     "output_type": "stream",
     "text": [
      "Hádaj číslo medzi 1 a 100!\n",
      "Máš 7 pokusov.\n",
      "\n",
      "🔴 Veľmi ďaleko - hádaj nižšie ⬇️\n",
      "🔴 Veľmi ďaleko - hádaj vyššie ⬆️\n",
      "🟠 Ďaleko - hádaj vyššie ⬆️\n",
      "🟡 Blízko - hádaj vyššie ⬆️\n",
      "🟡 Blízko - hádaj vyššie ⬆️\n",
      "🟢 Veľmi blízko - hádaj vyššie ⬆️\n",
      "🟢 Veľmi blízko - hádaj vyššie ⬆️\n",
      "\n",
      "😢 Prehrala si! Číslo bolo 68\n"
     ]
    }
   ],
   "source": [
    "import random\n",
    "\n",
    "class GuessNumberGame:\n",
    "    def __init__(self):\n",
    "        #Inicializuj hru s náhodným číslom\"\"\"\n",
    "        self.secret_number = random.randint(1, 100)\n",
    "        self.attempts = 0\n",
    "        self.max_attempts = 7\n",
    "    \n",
    "    def get_hint(self, guess):\n",
    "        #Vráť nápovedu na základe vzdialenosti\"\"\"\n",
    "        distance = abs(guess - self.secret_number)\n",
    "        \n",
    "        if distance >= 20:\n",
    "            return \"🔴 Veľmi ďaleko\"\n",
    "        elif distance >= 10:\n",
    "            return \"🟠 Ďaleko\"\n",
    "        elif distance >= 5:\n",
    "            return \"🟡 Blízko\"\n",
    "        else:\n",
    "            return \"🟢 Veľmi blízko\"\n",
    "    \n",
    "    def get_direction(self, guess):\n",
    "        \"\"\"Vráť smer (vyššie/nižšie)\"\"\"\n",
    "        if guess < self.secret_number:\n",
    "            return \"hádaj vyššie ⬆️\"\n",
    "        else:\n",
    "            return \"hádaj nižšie ⬇️\"\n",
    "    \n",
    "    def play(self):\n",
    "        \"\"\"Hlavná metóda na hranie hry\"\"\"\n",
    "        print(\"Hádaj číslo medzi 1 a 100!\")\n",
    "        print(f\"Máš {self.max_attempts} pokusov.\\n\")\n",
    "        \n",
    "        while self.attempts < self.max_attempts:\n",
    "            self.attempts += 1\n",
    "            \n",
    "            # Získaj číslo od hráčky\n",
    "            guess = int(input(f\"Pokus {self.attempts}: \"))\n",
    "            \n",
    "            # Skontroluj, či uhádla\n",
    "            if guess == self.secret_number:\n",
    "                print(f\"🎉 Výborne! Uhádla si na {self.attempts}. pokus!\")\n",
    "                break\n",
    "            \n",
    "            # Daj nápovedu a smer\n",
    "            hint = self.get_hint(guess)\n",
    "            direction = self.get_direction(guess)\n",
    "            print(f\"{hint} - {direction}\")\n",
    "        \n",
    "        else:\n",
    "            # Ak vyčerpala všetky pokusy\n",
    "            print(f\"\\n😢 Prehrala si! Číslo bolo {self.secret_number}\")\n",
    "\n",
    "\n",
    "# Spusti hru\n",
    "if __name__ == \"__main__\":\n",
    "    game = GuessNumberGame()\n",
    "    game.play()"
   ]
  }
 ],
 "metadata": {
  "kernelspec": {
   "display_name": "Python 3",
   "language": "python",
   "name": "python3"
  },
  "language_info": {
   "codemirror_mode": {
    "name": "ipython",
    "version": 3
   },
   "file_extension": ".py",
   "mimetype": "text/x-python",
   "name": "python",
   "nbconvert_exporter": "python",
   "pygments_lexer": "ipython3",
   "version": "3.12.2"
  }
 },
 "nbformat": 4,
 "nbformat_minor": 5
}
