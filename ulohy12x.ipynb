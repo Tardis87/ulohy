{
 "cells": [
  {
   "cell_type": "markdown",
   "id": "7793c2a3",
   "metadata": {},
   "source": [
    "⭐ **Úloha 01**\n",
    "\n",
    "\n",
    "Použi control flows na printnutie svojho mena presne 11 krát"
   ]
  },
  {
   "cell_type": "code",
   "execution_count": 1,
   "id": "496e9c33",
   "metadata": {},
   "outputs": [
    {
     "name": "stdout",
     "output_type": "stream",
     "text": [
      "Andrea\n",
      "Andrea\n",
      "Andrea\n",
      "Andrea\n",
      "Andrea\n",
      "Andrea\n",
      "Andrea\n",
      "Andrea\n",
      "Andrea\n",
      "Andrea\n",
      "Andrea\n"
     ]
    }
   ],
   "source": [
    "\n",
    "count = 1\n",
    "while count < 12:\n",
    "    print(\"Andrea\")\n",
    "    count += 1"
   ]
  },
  {
   "cell_type": "markdown",
   "id": "1616cb1e",
   "metadata": {},
   "source": [
    "⭐ **Úloha 02**\n",
    "\n",
    "Použi control flows na printnutie každého násobku 3 medzi 2 a 22."
   ]
  },
  {
   "cell_type": "code",
   "execution_count": 11,
   "id": "84eacedd",
   "metadata": {},
   "outputs": [
    {
     "name": "stdout",
     "output_type": "stream",
     "text": [
      "3\n",
      "6\n",
      "9\n",
      "12\n",
      "15\n",
      "18\n",
      "21\n"
     ]
    }
   ],
   "source": [
    "number = range(2,23)\n",
    "for x in number:\n",
    "    if x % 3 == 0:\n",
    "        print (x)\n",
    "    \n",
    "\n",
    "\n"
   ]
  },
  {
   "cell_type": "markdown",
   "id": "4081a806",
   "metadata": {},
   "source": [
    "⭐ **Úloha 03**\n",
    "\n",
    "Vytvor variable `score` s hodnotou medzi 0 a 100. Použi control flows na priradenie známky (A: 90-100, B: 80-89, C: 70-79, D: 60-69, F: pod 60)."
   ]
  },
  {
   "cell_type": "code",
   "execution_count": 21,
   "id": "afae34f4",
   "metadata": {},
   "outputs": [
    {
     "name": "stdout",
     "output_type": "stream",
     "text": [
      "F\n"
     ]
    }
   ],
   "source": [
    "score = 59\n",
    "\n",
    "if score >=90:\n",
    "    print(\"A\")\n",
    "elif score >=80:\n",
    "    print(\"B\")\n",
    "elif score >=70:\n",
    "    print(\"C\")\n",
    "elif score >=60:\n",
    "    print(\"D\")\n",
    "else:\n",
    "    print(\"F\")      "
   ]
  },
  {
   "cell_type": "markdown",
   "id": "a5d3c1d1",
   "metadata": {},
   "source": [
    "⭐ **Úloha 04**\n",
    "\n",
    "Vytvor list s 5 rôznymi farbami. Vytvor boolean variable `has_red`, ktorý je True, ak list obsahuje červenú, inak False. Printni výsledok."
   ]
  },
  {
   "cell_type": "code",
   "execution_count": 24,
   "id": "73cd8974",
   "metadata": {},
   "outputs": [
    {
     "name": "stdout",
     "output_type": "stream",
     "text": [
      "True\n"
     ]
    }
   ],
   "source": [
    "colors = [\"zlta\", \"cervena\", \"modra\", \"siva\", \"zelena\"]\n",
    "\n",
    "has_red = \"cervena\" in colors\n",
    "print(has_red)"
   ]
  },
  {
   "cell_type": "markdown",
   "id": "eaae4539",
   "metadata": {},
   "source": [
    "⭐ **Úloha 05**\n",
    "\n",
    "Vytvor list boolean náhodných True alebo False hodnôt. Vypočítaj a printni percento True prvkov."
   ]
  },
  {
   "cell_type": "code",
   "execution_count": 29,
   "id": "72a5ad50",
   "metadata": {},
   "outputs": [
    {
     "name": "stdout",
     "output_type": "stream",
     "text": [
      "50.0\n"
     ]
    }
   ],
   "source": [
    "prvky = [True, True, True, False, False, False]\n",
    "pocet_odpovedi = len(prvky)\n",
    "spravne_odpovede = 0\n",
    "\n",
    "for x in prvky:\n",
    "    if x:\n",
    "        spravne_odpovede += 1\n",
    "\n",
    "percentage = (spravne_odpovede / pocet_odpovedi) * 100\n",
    "print(percentage)\n"
   ]
  },
  {
   "cell_type": "markdown",
   "id": "d9d0d405",
   "metadata": {},
   "source": [
    "⭐ **Úloha 06**\n",
    "\n",
    "Vytvor list floating-point čísel. Uprav list tak, aby každé číslo bolo zaokrúhlené na 2 desatinné miesta."
   ]
  },
  {
   "cell_type": "code",
   "execution_count": null,
   "id": "16b58b20",
   "metadata": {},
   "outputs": [
    {
     "name": "stdout",
     "output_type": "stream",
     "text": [
      "[42.9, 31, 78.1, 1.9, 2.35]\n"
     ]
    }
   ],
   "source": [
    "cisla = [42.8957, 31, 78.1, 1.895, 2.3452]\n",
    "zaokruhlene = [round(x, 2) for x in cisla]  #novy zoznam, kde idem zaokruhlit polozky z \"cisla\" na dve desatinne, pricom berie data parametre z \"cisla\"\n",
    "\n",
    "    \n",
    "print(zaokruhlene)"
   ]
  },
  {
   "cell_type": "markdown",
   "id": "1aad8bc0",
   "metadata": {},
   "source": [
    "⭐ **Úloha 07**\n",
    "\n",
    "Vytvor set s číslami 1 až 20. Odstráň všetky čísla deliteľné 4 a printni zostávajúci set."
   ]
  },
  {
   "cell_type": "code",
   "execution_count": 52,
   "id": "e60f885c",
   "metadata": {},
   "outputs": [
    {
     "name": "stdout",
     "output_type": "stream",
     "text": [
      "deletelne 4 v novej mnozine\n",
      "{4, 8, 12, 16, 20}\n",
      "povodna mnozina\n",
      "{1, 2, 3, 4, 5, 6, 7, 8, 9, 10, 11, 12, 13, 14, 15, 16, 17, 18, 19, 20}\n",
      "mnoznina bez delitelnych 4\n",
      "{1, 2, 3, 5, 6, 7, 9, 10, 11, 13, 14, 15, 17, 18, 19}\n"
     ]
    }
   ],
   "source": [
    "mnozina = set(range(1, 21))\n",
    "remove_mnozina = set()\n",
    "\n",
    "for x in mnozina:\n",
    "    if x % 4 == 0:\n",
    "        remove_mnozina.add(x)\n",
    "        \n",
    "print(\"deletelne 4 v novej mnozine\")        \n",
    "print(remove_mnozina)\n",
    "print(\"povodna mnozina\")\n",
    "print(mnozina)\n",
    "\n",
    "nova_mnozina = mnozina - remove_mnozina\n",
    "print(\"mnoznina bez delitelnych 4\")\n",
    "print(nova_mnozina)\n",
    "        \n"
   ]
  },
  {
   "cell_type": "markdown",
   "id": "f77c0d1a",
   "metadata": {},
   "source": [
    "⭐ **Úloha 08**\n",
    "\n",
    "Vytvor dva sets, `a` a `b`, každý so 7 číslami medzi 0 a 9. Teraz vytvor set `c`, ktorý obsahuje hodnoty z `a` bez hodnôt, ktoré sa tiež vyskytujú v `b`. "
   ]
  },
  {
   "cell_type": "code",
   "execution_count": 53,
   "id": "7d5806e3",
   "metadata": {},
   "outputs": [
    {
     "name": "stdout",
     "output_type": "stream",
     "text": [
      "{1, 2}\n"
     ]
    }
   ],
   "source": [
    "set_a = {1, 2, 3, 4, 5, 6, 7}\n",
    "set_b = {3, 4, 5, 6, 7, 8, 9}\n",
    "\n",
    "set_c = set_a - set_b\n",
    "\n",
    "print(set_c)"
   ]
  },
  {
   "cell_type": "markdown",
   "id": "02585072",
   "metadata": {},
   "source": [
    "⭐ **Úloha 09**\n",
    "\n",
    "Vytvor variable `day_idx` s hodnotou medzi 1 a 365. Použi control flows na určenie toho, ktorý deň v týždni to je. (Hint: Zváž ako vieš využiť modulo operátor pri hľadaní vzoru.)"
   ]
  },
  {
   "cell_type": "code",
   "execution_count": 67,
   "id": "f11107f1",
   "metadata": {},
   "outputs": [
    {
     "name": "stdout",
     "output_type": "stream",
     "text": [
      "pondelok\n"
     ]
    }
   ],
   "source": [
    "day_idx = 8\n",
    "week = 7\n",
    "\n",
    "day = day_idx % week\n",
    "\n",
    "if day == 1:\n",
    "    print(\"pondelok\")\n",
    "elif day == 2:\n",
    "    print(\"utorok\")\n",
    "elif day == 3:\n",
    "    print(\"streda\")\n",
    "elif day == 4:\n",
    "    print(\"stvrtok\")\n",
    "elif day == 5:\n",
    "    print(\"piatok\")\n",
    "elif day == 6:\n",
    "    print(\"siestok\")\n",
    "else:\n",
    "    print(\"nedela\")\n",
    "\n",
    "\n"
   ]
  },
  {
   "cell_type": "markdown",
   "id": "cddc90c9",
   "metadata": {},
   "source": [
    "⭐ **Úloha 10**\n",
    "\n",
    "Vytvor list stringov reprezentujúcich názvy súborov (aj s koncovkami ako '.pdf', '.txt', '.jpg', '.docx' atď.). Použi loops na odfiltrovanie stringov, ktoré nereprezentujú textové súbory a printni výsledok."
   ]
  },
  {
   "cell_type": "code",
   "execution_count": 76,
   "id": "075b94e9",
   "metadata": {},
   "outputs": [
    {
     "name": "stdout",
     "output_type": "stream",
     "text": [
      "['lego.pdf', 'Dont_Blink.txt']\n",
      "['Wheeping_Angel.jpg', 'Allonsy.mp3']\n"
     ]
    }
   ],
   "source": [
    "subory = [\"lego.pdf\", \"Wheeping_Angel.jpg\", \"Dont_Blink.txt\", \"Allonsy.mp3\"]\n",
    "textove_subory = []\n",
    "netextove_subory = []\n",
    "\n",
    "for x in subory:\n",
    "    if x.endswith(\"pdf\") or x.endswith(\"txt\"):\n",
    "        textove_subory.append(x)\n",
    "        \n",
    "for y in subory:\n",
    "    if y. endswith(\"jpg\") or y.endswith(\"mp3\"):\n",
    "        netextove_subory.append(y)\n",
    "        \n",
    "print(textove_subory)\n",
    "print(netextove_subory)\n",
    "        \n"
   ]
  },
  {
   "cell_type": "markdown",
   "id": "7eac0478",
   "metadata": {},
   "source": [
    "⭐ **Úloha 11**\n",
    "\n",
    "\n",
    "Vytvor list 10 náhodných integers. Nájdi a printni druhé najväčšie číslo."
   ]
  },
  {
   "cell_type": "code",
   "execution_count": 89,
   "id": "a200eba2",
   "metadata": {},
   "outputs": [
    {
     "name": "stdout",
     "output_type": "stream",
     "text": [
      "[1, 257, 8, 1, 257, 257, 3698, 3698, 45]\n",
      "{1, 257, 8, 45, 3698}\n",
      "257\n"
     ]
    }
   ],
   "source": [
    "cisla = [1, 257, 8, 1, 257, 257, 3698, 3698, 45]\n",
    "set_cisla = set(cisla)\n",
    "\n",
    "print(cisla)\n",
    "print(set_cisla)\n",
    "\n",
    "#kedze v sete sa neopakuju cisla prekonvertovala som si list do setu, a zo setu budem hladat druhe najvacsie cislo\n",
    "\n",
    "usporiadany_set = sorted(set_cisla)\n",
    "\n",
    "print(usporiadany_set[-2]) #vyprintim druhe najvyssie cislo\n",
    "\n",
    "\n",
    "\n"
   ]
  },
  {
   "cell_type": "markdown",
   "id": "237aa2a7",
   "metadata": {},
   "source": [
    "⭐ **Úloha 12**\n",
    "\n",
    "Vytvor list obsahujúci dictionaries, kde každý dictionary reprezentuje osobu s menom a vekom. Vypočítaj a printni priemerný vek."
   ]
  },
  {
   "cell_type": "code",
   "execution_count": 97,
   "id": "f88afeb5",
   "metadata": {},
   "outputs": [
    {
     "name": "stdout",
     "output_type": "stream",
     "text": [
      "9.5\n"
     ]
    }
   ],
   "source": [
    "ludia = [\n",
    "    {\"meno\": \"Gregor\", \"vek\": 12},\n",
    "    {\"meno\": \"Zita\", \"vek\": 3},\n",
    "    {\"meno\": \"Charlie\", \"vek\": 10},\n",
    "    {\"meno\": \"Lilly\", \"vek\": 13}\n",
    "    ]\n",
    "\n",
    "vek_spolu = 0\n",
    "pocet_ludi = 0\n",
    "\n",
    "for x in ludia:\n",
    "    vek_spolu += x[\"vek\"]\n",
    "    pocet_ludi += 1\n",
    "\n",
    "if pocet_ludi > 0:\n",
    "    avarage_age = vek_spolu / pocet_ludi\n",
    "else:\n",
    "    avarage_age = 0\n",
    "\n",
    "print(avarage_age)\n",
    "    \n"
   ]
  },
  {
   "cell_type": "code",
   "execution_count": 98,
   "id": "b0682d23",
   "metadata": {},
   "outputs": [
    {
     "name": "stdout",
     "output_type": "stream",
     "text": [
      "Initial score: 0\n",
      "Score after adding 10: 10\n",
      "Final score: 15\n"
     ]
    }
   ],
   "source": [
    "# Create a variable called 'score' and set it to 0\n",
    "score = 0\n",
    "print(\"Initial score:\", score) # Output: Initial score: 0\n",
    "\n",
    "# Add 10 to the score\n",
    "score += 10\n",
    "print(\"Score after adding 10:\", score) # Output: Score after adding 10: 10\n",
    "\n",
    "# Add another 5 points\n",
    "score += 5\n",
    "print(\"Final score:\", score) # Output: Final score: 15"
   ]
  },
  {
   "cell_type": "code",
   "execution_count": 99,
   "id": "ac1d750c",
   "metadata": {},
   "outputs": [
    {
     "name": "stdout",
     "output_type": "stream",
     "text": [
      "Initial message: Hello\n",
      "Final message: Hello, World!\n"
     ]
    }
   ],
   "source": [
    "# Create a variable with the start of a message\n",
    "message = \"Hello\"\n",
    "print(\"Initial message:\", message) # Output: Initial message: Hello\n",
    "\n",
    "# Add a new part to the message\n",
    "message += \", World!\"\n",
    "print(\"Final message:\", message) # Output: Final message: Hello, World!"
   ]
  },
  {
   "cell_type": "markdown",
   "id": "f77f51b1",
   "metadata": {},
   "source": [
    "⭐ **Úloha 13**\n",
    "\n",
    "\n",
    "Vytvor list 12 náhodných mien. Rozdeľ tieto mená do trojíc podľa abecedy a vytlač výsledok ako list."
   ]
  },
  {
   "cell_type": "code",
   "execution_count": null,
   "id": "6f371f3c",
   "metadata": {},
   "outputs": [
    {
     "name": "stdout",
     "output_type": "stream",
     "text": [
      "[['bonny', 'charlie', 'ellie'], ['jack', 'katka', 'kora'], ['lilly', 'murko', 'rocky'], ['sunar', 'zita', 'zuzka']]\n"
     ]
    }
   ],
   "source": [
    "names = [\"zuzka\", \"katka\", \"lilly\", \"zita\", \"ellie\", \"charlie\", \"jack\", \"kora\", \"rocky\", \"bonny\", \"sunar\", \"murko\"]\n",
    "\n",
    "\n",
    "\n",
    "names.sort()\n",
    "trojicky = [names[x:x + 3] for x in range(0, len(names), 3)]\n",
    "# Tento list comprehension vytvorí nový zoznam. \n",
    "# Loop for x in range(0, len(names), 3) prechádza zoznam po krokoch veľkosti 3 (napr. 0, 3, 6, 9) \n",
    "# a names[x:x + 3] zakaždým vezme \"plátok\" (slice) s tromi menami.\n",
    "\n",
    "print(trojicky)\n"
   ]
  },
  {
   "cell_type": "code",
   "execution_count": null,
   "id": "8b76d939",
   "metadata": {},
   "outputs": [],
   "source": [
    "Konštrukcia [i:i + 3] v Pythone znamená \"výrez zoznamu\" (list slicing). \n",
    "Presnejšie, [i:i + 3] vyberie zo zoznamu prvky, ktoré začínajú na indexe i (vrátane) a končia tesne pred indexom i + 3 (bez neho). \n",
    "V danom kóde sa to používa v kontexte list comprehension, kde prechádzate zoznamom s krokom 3:\n",
    "python\n",
    "[nahodne_mena[i:i + 3] for i in range(0, len(nahodne_mena), 3)]\n",
    "Use code with caution.\n",
    "\n",
    "Toto sa deje v troch krokoch:\n",
    "range(0, len(nahodne_mena), 3): Vytvorí postupnosť indexov [0, 3, 6, 9].\n",
    "nahodne_mena[i:i + 3]: Pri každej iterácii cyklu (for i in ...) sa zo zoznamu nahodne_mena vytvorí nový výrez (podzoznam):\n",
    "Keď i = 0, dostanete výrez nahodne_mena[0:3], teda prvé tri mená.\n",
    "Keď i = 3, dostanete výrez nahodne_mena[3:6], teda ďalšie tri mená.\n",
    "Keď i = 6, dostanete výrez nahodne_mena[6:9], teda ďalšie tri mená.\n",
    "Keď i = 9, dostanete výrez nahodne_mena[9:12], teda posledné tri mená.\n",
    "[...]: Každý z týchto výrezov sa pridá ako prvok do nového zoznamu, čím sa vytvorí zoznam zoznamov, teda trojíc mien"
   ]
  },
  {
   "cell_type": "markdown",
   "id": "65638b5c",
   "metadata": {},
   "source": [
    "⭐ **Úloha 14**\n",
    "\n",
    "Použi control flows na nájdenie výsledku 63487 delené 7. (Tentokrát žiadne delenie ani násobenie!)"
   ]
  },
  {
   "cell_type": "code",
   "execution_count": null,
   "id": "a2247d07",
   "metadata": {},
   "outputs": [],
   "source": [
    "dividend = 63487\n",
    "divisor = 7\n",
    "quotient = 0\n",
    "\n",
    "remainder = dividend\n",
    "\n",
    "## opakujeme odčítanie divisor-u od remainder-u, kým remainder (zvyšok) nie je menší ako divisor (deliteľ)\n",
    "while remainder >= divisor:\n",
    "    remainder = remainder - divisor\n",
    "    quotient = quotient + 1\n",
    "\n",
    "print(f\"The quotient is: {quotient}\")\n",
    "print(f\"The remainder is: {remainder}\")\n",
    "\n",
    "\n",
    "## Som len zobrala z rieseni, toto uz moja hlava nebere dnes :D"
   ]
  },
  {
   "cell_type": "markdown",
   "id": "110586a5",
   "metadata": {},
   "source": [
    "⭐ **Úloha 15**\n",
    "\n",
    "Každá vytvorte list 10 farieb vo svojich repositories. Potom zlúčte vaše listy do jednej repository cez GitHub (nie manuálne) a nájdite ich prienik."
   ]
  },
  {
   "cell_type": "code",
   "execution_count": null,
   "id": "6416e89d",
   "metadata": {},
   "outputs": [],
   "source": []
  }
 ],
 "metadata": {
  "kernelspec": {
   "display_name": "Python 3",
   "language": "python",
   "name": "python3"
  },
  "language_info": {
   "codemirror_mode": {
    "name": "ipython",
    "version": 3
   },
   "file_extension": ".py",
   "mimetype": "text/x-python",
   "name": "python",
   "nbconvert_exporter": "python",
   "pygments_lexer": "ipython3",
   "version": "3.12.2"
  }
 },
 "nbformat": 4,
 "nbformat_minor": 5
}
