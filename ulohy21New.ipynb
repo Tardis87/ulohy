{
 "cells": [
  {
   "cell_type": "markdown",
   "id": "3d7ae0dc",
   "metadata": {},
   "source": [
    "# Na hodinu"
   ]
  },
  {
   "cell_type": "markdown",
   "id": "89f01ab5",
   "metadata": {},
   "source": [
    "## ⭐ **Úloha 01**\n",
    "Napíš funkciu `greet()`, ktorá berie meno ako argument a vypíše `\"Hello, [meno]!\"`. Otestuj ju so svojím vlastným menom."
   ]
  },
  {
   "cell_type": "code",
   "execution_count": 1,
   "id": "00e55d0a",
   "metadata": {},
   "outputs": [
    {
     "name": "stdout",
     "output_type": "stream",
     "text": [
      "Hello, Andrea\n"
     ]
    }
   ],
   "source": [
    "def greet(name):\n",
    "    return f\"Hello, {name}\"\n",
    "\n",
    "print(greet(\"Andrea\"))\n",
    "    "
   ]
  },
  {
   "cell_type": "markdown",
   "id": "d5690f2a",
   "metadata": {},
   "source": [
    "## ⭐ **Úloha 02**\n",
    "Napíš funkciu `reverse()`, ktorá berie string a vráti ten istý string ale naopak."
   ]
  },
  {
   "cell_type": "code",
   "execution_count": 5,
   "id": "38e5e563",
   "metadata": {},
   "outputs": [
    {
     "name": "stdout",
     "output_type": "stream",
     "text": [
      "olleh\n"
     ]
    }
   ],
   "source": [
    "def reverse(text):\n",
    "    return text [::-1]\n",
    "print(reverse(\"hello\"))\n",
    "\n",
    "#The [::-1] reverses the order. In a similar way, we can slice strings like this. Remember, negative number for step means \"in reverse order\"\n",
    "# ak dam -2 tak kazde druhe\n",
    "    "
   ]
  },
  {
   "cell_type": "markdown",
   "id": "44b415e4",
   "metadata": {},
   "source": [
    ":: Slicing , priklady"
   ]
  },
  {
   "cell_type": "code",
   "execution_count": 6,
   "id": "17ec7cec",
   "metadata": {},
   "outputs": [
    {
     "name": "stdout",
     "output_type": "stream",
     "text": [
      "[0, 2, 4, 6, 8]\n",
      "[0, 3, 6, 9]\n",
      "[0, 1, 2, 3, 4, 5, 6, 7, 8, 9]\n"
     ]
    }
   ],
   "source": [
    "numbers = [0, 1, 2, 3, 4, 5, 6, 7, 8, 9]\n",
    "\n",
    "# Get every 2nd element\n",
    "print(numbers[::2])  # [0, 2, 4, 6, 8]\n",
    "\n",
    "# Get every 3rd element\n",
    "print(numbers[::3])  # [0, 3, 6, 9]\n",
    "\n",
    "# Get every element (step of 1, same as numbers[:])\n",
    "print(numbers[::1])  # [0, 1, 2, 3, 4, 5, 6, 7, 8, 9]"
   ]
  },
  {
   "cell_type": "code",
   "execution_count": 7,
   "id": "039ab96f",
   "metadata": {},
   "outputs": [
    {
     "name": "stdout",
     "output_type": "stream",
     "text": [
      "[2, 4, 6]\n",
      "[1, 4]\n",
      "[0, 2, 4, 6]\n",
      "[2, 4, 6, 8]\n"
     ]
    }
   ],
   "source": [
    "numbers = [0, 1, 2, 3, 4, 5, 6, 7, 8, 9]\n",
    "\n",
    "# From index 2 to 8, every 2nd element\n",
    "print(numbers[2:8:2])  # [2, 4, 6]\n",
    "\n",
    "# From index 1 to 7, every 3rd element\n",
    "print(numbers[1:7:3])  # [1, 4]\n",
    "\n",
    "# From start to index 8, every 2nd element\n",
    "print(numbers[:8:2])  # [0, 2, 4, 6]\n",
    "\n",
    "# From index 2 to end, every 2nd element\n",
    "print(numbers[2::2])  # [2, 4, 6, 8]"
   ]
  },
  {
   "cell_type": "markdown",
   "id": "723f0c27",
   "metadata": {},
   "source": [
    "## ⭐ **Úloha 03**\n",
    "Napíš funkciu `area()`, ktorá berie každú *unikátnu* dĺžku pravouhlého symetrického štvorca a vráti jeho plochu."
   ]
  },
  {
   "cell_type": "code",
   "execution_count": 8,
   "id": "3065684e",
   "metadata": {},
   "outputs": [
    {
     "name": "stdout",
     "output_type": "stream",
     "text": [
      "25\n"
     ]
    }
   ],
   "source": [
    "def area(a):\n",
    "    return a * a\n",
    "\n",
    "print (area(5))"
   ]
  },
  {
   "cell_type": "markdown",
   "id": "2cd7196c",
   "metadata": {},
   "source": [
    "## ⭐ **Úloha 04**\n",
    "Vytvor funkciu `leap_year_check()`, ktorá berie rok a vráti `True`, ak je rok prestupný."
   ]
  },
  {
   "cell_type": "code",
   "execution_count": 12,
   "id": "3e10b023",
   "metadata": {},
   "outputs": [
    {
     "name": "stdout",
     "output_type": "stream",
     "text": [
      "false\n",
      "true\n",
      "wrong value, year con not have less tahn 365 days\n",
      "wrong value, year can not have more than 366 days\n"
     ]
    }
   ],
   "source": [
    "def leap_year_check(days):\n",
    "    if days == 366:\n",
    "        return \"true\"\n",
    "    if days > 366:\n",
    "        return \"wrong value, year can not have more than 366 days\"\n",
    "    if days < 365:\n",
    "        return \"wrong value, year con not have less tahn 365 days\"\n",
    "    else:\n",
    "        return \"false\"\n",
    "    \n",
    "print(leap_year_check(365))\n",
    "print(leap_year_check(366))\n",
    "print(leap_year_check(364))\n",
    "print(leap_year_check(367))"
   ]
  },
  {
   "cell_type": "markdown",
   "id": "5564102c",
   "metadata": {},
   "source": [
    "## ⭐ **Úloha 05**\n",
    "Napíš funkciu `greet_everyone()`, ktorá berie list mien a vypíše `\"Hello, [meno]!\"` pre všetky mená v liste. Počet mien nie je vopred špecifikovaný."
   ]
  },
  {
   "cell_type": "code",
   "execution_count": 9,
   "id": "7049d92d",
   "metadata": {},
   "outputs": [
    {
     "name": "stdout",
     "output_type": "stream",
     "text": [
      "Hello, Andrea\n",
      "Hello, Jakub\n",
      "Hello, Banan\n",
      "Hello, Timcik\n",
      "Hello, Ondro Sheeva\n",
      "Hello, Pribik\n"
     ]
    }
   ],
   "source": [
    "names_everyone = [\"Andrea\", \"Jakub\", \"Banan\", \"Timcik\", \"Ondro Sheeva\", \"Pribik\"]\n",
    "\n",
    "greet_everyone(names_everyone) \n",
    "\n",
    "def greet_everyone(names):\n",
    "    for x in names:\n",
    "        print(f\"Hello, {x}\")\n",
    "    \n",
    "\n",
    "\n",
    "\n",
    "\n",
    "    \n",
    "\n",
    "    "
   ]
  },
  {
   "cell_type": "code",
   "execution_count": null,
   "id": "b36a8fa9",
   "metadata": {},
   "outputs": [],
   "source": [
    "Ako to funguje?\n",
    "\n",
    "Vytvoríme premennú names_everyone s listom mien\n",
    "Zavoláme funkciu greet_everyone(names_everyone)\n",
    "Python skopíruje hodnotu z names_everyone do parametra names\n",
    "Vnútri funkcie pracujeme s names, ktorý obsahuje tú istú hodnotu\n",
    "\n",
    "Analógia:\n",
    "Predstav si to ako doručovanie balíka:\n",
    "\n",
    "names_everyone = tvoja krabica doma s vecami\n",
    "names = parameter funkcie = adresa, kam balík pošleš\n",
    "Keď zavoláš funkciu, Python \"pošle kópiu obsahu\" do funkcie "
   ]
  },
  {
   "cell_type": "markdown",
   "id": "81f77d42",
   "metadata": {},
   "source": [
    "## ⭐ **Úloha 06**\n",
    "Vytvor funkciu `names_alphabetical()`, ktorá berie meno osoby (dopredu sa nevie, koľko mien user poskytne) a vráti všetky časti ich mena v abecednom poradí."
   ]
  },
  {
   "cell_type": "code",
   "execution_count": 20,
   "id": "c94e101f",
   "metadata": {},
   "outputs": [
    {
     "name": "stdout",
     "output_type": "stream",
     "text": [
      "['Anna Fajfrtova', 'Jon', 'Peter', 'Zuzana von Wunderbar']\n"
     ]
    }
   ],
   "source": [
    "def names_alphabetical(names):\n",
    "   \n",
    "    #Funkcia prijme zoznam mien a vráti ich v abecednom poradí.\n",
    "\n",
    "    sorted_names = sorted(names)\n",
    "    return sorted_names\n",
    "mena = [\"Jon\", \"Anna Fajfrtova\", \"Zuzana von Wunderbar\", \"Peter\"]\n",
    "print(names_alphabetical(mena))\n",
    "\n",
    "\n",
    "\n",
    "\n",
    "    \n",
    "\n",
    "\n"
   ]
  },
  {
   "cell_type": "markdown",
   "id": "f9066b2e",
   "metadata": {},
   "source": [
    "## ⭐ **Úloha 07**\n",
    "Napíš funkciu `prime_check()`, ktorá berie integer a vráti `True`, ak je číslo prvočíslo, inak `False`. (Tip: uisti sa, že ošetríš záporné čísla a iné edge cases.)"
   ]
  },
  {
   "cell_type": "code",
   "execution_count": 23,
   "id": "011c0878",
   "metadata": {},
   "outputs": [
    {
     "name": "stdout",
     "output_type": "stream",
     "text": [
      "False, 1 nie je prvočíslo\n",
      "True, 2 je prvočíslo\n",
      "True, 3 je prvočíslo\n",
      "False, 4 nie je prvočíslo\n",
      "True, 17 je prvočíslo\n",
      "False, 20 nie je prvočíslo\n"
     ]
    }
   ],
   "source": [
    "def prime_check(number):\n",
    "    \"\"\"Skontroluje, či je číslo prvočíslo\"\"\"\n",
    "    \n",
    "    # Čísla menšie ako 2 nie sú prvočísla\n",
    "    if number < 2:\n",
    "        return f\"False, {number} nie je prvočíslo\"\n",
    "    \n",
    "    # Skontroluj deliteľnosť od 2 po number-1\n",
    "    for i in range(2, number):\n",
    "        if number % i == 0:\n",
    "            return f\"False, {number} nie je prvočíslo\"\n",
    "    \n",
    "    return f\"True, {number} je prvočíslo\"\n",
    "\n",
    "\n",
    "# Testy\n",
    "print(prime_check(1))   # False\n",
    "print(prime_check(2))   # True (prvé prvočíslo)\n",
    "print(prime_check(3))   # True\n",
    "print(prime_check(4))   # False (deliteľné 2)\n",
    "print(prime_check(17))  # True\n",
    "print(prime_check(20))  # False (deliteľné 2, 4, 5, 10)\n"
   ]
  },
  {
   "cell_type": "markdown",
   "id": "d9f78c80",
   "metadata": {},
   "source": [
    "## ⭐ **Úloha 08**\n",
    "Vytvor funkciu `word_count()`, ktorá berie string s vetou a vráti dictionary s každým slovom ako key a jeho frekvenciou ako value."
   ]
  },
  {
   "cell_type": "code",
   "execution_count": null,
   "id": "b334eda9",
   "metadata": {},
   "outputs": [],
   "source": [
    "\n",
    "    "
   ]
  },
  {
   "cell_type": "markdown",
   "id": "943a8fab",
   "metadata": {},
   "source": [
    "## ⭐ **Úloha 09**\n",
    "Vytvor funkciu `validate_email()`, ktorá vráti `True` len vtedy, keď input string obsahuje presne jeden `@`, aspoň jednu bodku za `@`, a žiadne medzery."
   ]
  },
  {
   "cell_type": "code",
   "execution_count": null,
   "id": "88f877c4",
   "metadata": {},
   "outputs": [],
   "source": [
    "def validate_email(email):\n",
    "    if x \n",
    "    "
   ]
  },
  {
   "cell_type": "markdown",
   "id": "25011426",
   "metadata": {},
   "source": [
    "## ⭐ **Úloha 10**\n",
    "Vytvor funkciu `find_intersection()`, ktorá berie dva listy a vráti list elementov, ktoré sa vyskytujú v oboch listoch."
   ]
  },
  {
   "cell_type": "code",
   "execution_count": null,
   "id": "987519d1",
   "metadata": {},
   "outputs": [],
   "source": []
  },
  {
   "cell_type": "markdown",
   "id": "2dda60a9",
   "metadata": {},
   "source": [
    "## ⭐ **Úloha 11**\n",
    "Vytvor funkciu `count_words_by_length()`, ktorá berie vetu a vráti dictionary, kde keys sú dĺžky slov a values sú počty slov s danou dĺžkou."
   ]
  },
  {
   "cell_type": "code",
   "execution_count": null,
   "id": "6c1b59b3",
   "metadata": {},
   "outputs": [],
   "source": []
  },
  {
   "cell_type": "markdown",
   "id": "2ab1fb91",
   "metadata": {},
   "source": [
    "## ⭐ **Úloha 12**\n",
    "Vytvor funkciu `hours_to_hms()`, ktorá berie počet hodín ako desatiné číslo a vráti ho vo formáte hodiny:minúty:sekundy."
   ]
  },
  {
   "cell_type": "code",
   "execution_count": null,
   "id": "309cf2a9",
   "metadata": {},
   "outputs": [],
   "source": []
  },
  {
   "cell_type": "markdown",
   "id": "dbd9b869",
   "metadata": {},
   "source": [
    "## ⭐ **Úloha 13**\n",
    "Napíš funkciu `fibonacci()`, ktorá berie integer `n` a vráti n-té Fibonacci číslo."
   ]
  },
  {
   "cell_type": "code",
   "execution_count": null,
   "id": "fe02deb8",
   "metadata": {},
   "outputs": [],
   "source": []
  },
  {
   "cell_type": "markdown",
   "id": "ea855e86",
   "metadata": {},
   "source": [
    "## ⭐ **Úloha 14**\n",
    "Vytvor rekurzívnu funkciu `gcd()`, ktorá nájde a vráti najväčší spoločný deliteľ dvoch input integerov. (Tip: zvaž použitie Euklidovho algoritmu.)"
   ]
  },
  {
   "cell_type": "code",
   "execution_count": null,
   "id": "2bfa5805",
   "metadata": {},
   "outputs": [],
   "source": []
  },
  {
   "cell_type": "markdown",
   "id": "f22806a5",
   "metadata": {},
   "source": [
    "## ⭐ **Úloha 15**\n",
    "Vytvor funkciu `merge_lists()`, ktorá berie presne dva zoradené listy integerov a vráti jeden zoradený list obsahujúci všetky elementy z oboch listov."
   ]
  },
  {
   "cell_type": "code",
   "execution_count": null,
   "id": "330476db",
   "metadata": {},
   "outputs": [],
   "source": []
  },
  {
   "cell_type": "markdown",
   "id": "45a256bb",
   "metadata": {},
   "source": [
    "## ⭐ **Úloha 16**\n",
    "Napíš funkciu `find_second_largest()`, ktorá berie list čísel a vráti druhé najväčšie číslo. (Tip: ošetri prípad, keď sú všetky hodnoty rovnaké.)"
   ]
  },
  {
   "cell_type": "code",
   "execution_count": null,
   "id": "dbce8da8",
   "metadata": {},
   "outputs": [],
   "source": []
  },
  {
   "cell_type": "markdown",
   "id": "bc8c463a",
   "metadata": {},
   "source": [
    "## ⭐ **Úloha 17**\n",
    "Vytvor funkciu `ceasar_cipher()`, ktorá berie string a integer `n`, a vráti string posunutý o `n` pozícií doľava. (Tip: ošetri prípady, keď `n` je väčšie ako dĺžka stringu.)"
   ]
  },
  {
   "cell_type": "code",
   "execution_count": null,
   "id": "dab50aa9",
   "metadata": {},
   "outputs": [],
   "source": []
  },
  {
   "cell_type": "markdown",
   "id": "530e0412",
   "metadata": {},
   "source": [
    "## ⭐ **Úloha 18**\n",
    "Napíš funkciu `remove_nth_character()`, ktorá berie string a integer `n`, a vráti string s každým n-tým charakterom odstráneným. Ošetri prípady, keď `n` je väčšie ako dĺžka stringu."
   ]
  },
  {
   "cell_type": "code",
   "execution_count": null,
   "id": "985b61e7",
   "metadata": {},
   "outputs": [],
   "source": []
  },
  {
   "cell_type": "markdown",
   "id": "396680c2",
   "metadata": {},
   "source": [
    "## ⭐ **Úloha 19**\n",
    "Napíš funkciu `find_missing_number()`, ktorá berie list integerov od 1 do n s jedným chýbajúcim číslom, a vráti chýbajúce číslo. (List nemusí byť zoradený.)"
   ]
  },
  {
   "cell_type": "code",
   "execution_count": null,
   "id": "fdd73fe8",
   "metadata": {},
   "outputs": [],
   "source": []
  },
  {
   "cell_type": "markdown",
   "id": "18409607",
   "metadata": {},
   "source": [
    "## ⭐ **Úloha 20**\n",
    "Napíš funkciu `anagram_groups()`, ktorá berie list slov a vráti dictionary anagramov, kde key je abecedne zoradený reprezentant (napr. `{\"aet\": [\"eat\", \"tea\", \"ate\"], \"ab\": [\"ab\", \"ba\"]}`)."
   ]
  },
  {
   "cell_type": "code",
   "execution_count": null,
   "id": "70c8b871",
   "metadata": {},
   "outputs": [],
   "source": []
  },
  {
   "cell_type": "markdown",
   "id": "cde5165b",
   "metadata": {},
   "source": [
    "## ⭐ **Úloha 21**\n",
    "Vytvor funkciu `sort_by_frequency()`, ktorá berie list elementov a vráti list zoradený podľa frekvencie výskytu (najčastejšie prvé). (Tip: premysli si, ako chceš riešiť prípady, keď sa slová vyskytujú toľko isto krát.)"
   ]
  },
  {
   "cell_type": "code",
   "execution_count": null,
   "id": "75836b57",
   "metadata": {},
   "outputs": [],
   "source": []
  }
 ],
 "metadata": {
  "kernelspec": {
   "display_name": "Python 3",
   "language": "python",
   "name": "python3"
  },
  "language_info": {
   "codemirror_mode": {
    "name": "ipython",
    "version": 3
   },
   "file_extension": ".py",
   "mimetype": "text/x-python",
   "name": "python",
   "nbconvert_exporter": "python",
   "pygments_lexer": "ipython3",
   "version": "3.12.2"
  }
 },
 "nbformat": 4,
 "nbformat_minor": 5
}
