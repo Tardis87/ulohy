{
 "cells": [
  {
   "cell_type": "markdown",
   "id": "c828109e",
   "metadata": {},
   "source": [
    "⭐⭐⭐⭐   Definicia ⭐⭐⭐⭐"
   ]
  },
  {
   "cell_type": "markdown",
   "id": "1ef2c8aa",
   "metadata": {},
   "source": [
    "A function is a reusable block of code that performs a specific task. Think of it like a recipe - you write it once and can use it many times!\n",
    "\n",
    "\n",
    "Basic Syntax"
   ]
  },
  {
   "cell_type": "code",
   "execution_count": 1,
   "id": "64521c49",
   "metadata": {},
   "outputs": [],
   "source": [
    "def function_name(parameters):\n",
    "    # code to execute\n",
    "    return result"
   ]
  },
  {
   "cell_type": "markdown",
   "id": "18a936ee",
   "metadata": {},
   "source": [
    "⭐⭐Key Points to Remember:\n",
    "\n"
   ]
  },
  {
   "cell_type": "code",
   "execution_count": null,
   "id": "85160ab6",
   "metadata": {},
   "outputs": [],
   "source": [
    "def - keyword to define a function\n",
    "\n",
    "Function name - should be descriptive (use lowercase with underscores)\n",
    "\n",
    "Parameters - inputs the function needs (optional)\n",
    "\n",
    "return - sends a value back to where the function was called (optional)\n",
    "\n",
    "Calling a function - use the function name with parentheses: function_name()\n"
   ]
  },
  {
   "cell_type": "markdown",
   "id": "8d790630",
   "metadata": {},
   "source": [
    "⭐  Example 1: \n",
    "\n",
    "Simple Function (No Parameters, No Return)"
   ]
  },
  {
   "cell_type": "code",
   "execution_count": 2,
   "id": "2ade787e",
   "metadata": {},
   "outputs": [
    {
     "name": "stdout",
     "output_type": "stream",
     "text": [
      "Hello, World!\n"
     ]
    }
   ],
   "source": [
    "def say_hello():\n",
    "    print(\"Hello, World!\")\n",
    "\n",
    "# Call the function\n",
    "say_hello()"
   ]
  },
  {
   "cell_type": "markdown",
   "id": "e2f6948a",
   "metadata": {},
   "source": [
    "⭐ Example 2: Function with Parameters"
   ]
  },
  {
   "cell_type": "code",
   "execution_count": 5,
   "id": "ec3838bc",
   "metadata": {},
   "outputs": [
    {
     "name": "stdout",
     "output_type": "stream",
     "text": [
      "Hello, Anna!\n",
      "Hello, Peter!\n"
     ]
    }
   ],
   "source": [
    "def greet(name):\n",
    "    print(f\"Hello, {name}!\")\n",
    "\n",
    "greet(\"Anna\")\n",
    "greet(\"Peter\")\n"
   ]
  },
  {
   "cell_type": "markdown",
   "id": "555c6074",
   "metadata": {},
   "source": [
    "⭐ Example 3: Function with Return Value"
   ]
  },
  {
   "cell_type": "code",
   "execution_count": 6,
   "id": "d97c779e",
   "metadata": {},
   "outputs": [
    {
     "name": "stdout",
     "output_type": "stream",
     "text": [
      "The area is 20 m²\n"
     ]
    }
   ],
   "source": [
    "def calculate_area(width, height):\n",
    "    area = width * height\n",
    "    return area\n",
    "\n",
    "room_area = calculate_area(5, 4)\n",
    "print(f\"The area is {room_area} m²\")  # The area is 20 m²"
   ]
  },
  {
   "cell_type": "markdown",
   "id": "e939381a",
   "metadata": {},
   "source": [
    "⭐ Example 5: Function with Default Parameters"
   ]
  },
  {
   "cell_type": "code",
   "execution_count": 7,
   "id": "b9b97751",
   "metadata": {},
   "outputs": [
    {
     "name": "stdout",
     "output_type": "stream",
     "text": [
      "Hello, John!\n",
      "Hi, Mary!\n",
      "Good morning, Tom!\n"
     ]
    }
   ],
   "source": [
    "def greet_person(name, greeting=\"Hello\"):\n",
    "    print(f\"{greeting}, {name}!\")\n",
    "\n",
    "greet_person(\"John\")           # Hello, John!\n",
    "greet_person(\"Mary\", \"Hi\")     # Hi, Mary!\n",
    "greet_person(\"Tom\", \"Good morning\")  # Good morning, Tom!"
   ]
  },
  {
   "cell_type": "markdown",
   "id": "352571aa",
   "metadata": {},
   "source": [
    "⭐ Example 6: Function Returning Multiple Values"
   ]
  },
  {
   "cell_type": "code",
   "execution_count": 8,
   "id": "f06c2741",
   "metadata": {},
   "outputs": [
    {
     "name": "stdout",
     "output_type": "stream",
     "text": [
      "Minimum: 1\n",
      "Maximum: 9\n"
     ]
    }
   ],
   "source": [
    "def get_min_max(numbers):\n",
    "    minimum = min(numbers)\n",
    "    maximum = max(numbers)\n",
    "    return minimum, maximum\n",
    "\n",
    "my_list = [3, 7, 1, 9, 2]\n",
    "min_val, max_val = get_min_max(my_list)\n",
    "\n",
    "print(f\"Minimum: {min_val}\")  # Minimum: 1\n",
    "print(f\"Maximum: {max_val}\")  # Maximum: 9"
   ]
  },
  {
   "cell_type": "markdown",
   "id": "845d2929",
   "metadata": {},
   "source": [
    "⭐ Example 7: Practical Example - Temperature Converter"
   ]
  },
  {
   "cell_type": "code",
   "execution_count": 15,
   "id": "b1ace9f0",
   "metadata": {},
   "outputs": [
    {
     "name": "stdout",
     "output_type": "stream",
     "text": [
      "25°C = 77.0°F\n"
     ]
    }
   ],
   "source": [
    "def celsius_to_fahrenheit(celsius):  #(celsius) - this is a parameter (like a placeholder variable that will receive a value when the function is called), Think of it like: \"Create a recipe called 'celsius_to_fahrenheit' that needs one ingredient called 'celsius'\"\n",
    "    fahrenheit = (celsius * 9/5) + 32\n",
    "    return fahrenheit  #return sends the value of fahrenheit back to wherever the function was called\n",
    "                       #After this line, the function stops executing\n",
    "                       #The returned value can be stored in a variable or used directly\n",
    "                       #Think of it like: \"Here's your answer, I'm done!\"\n",
    "\n",
    "temp_c = 25\n",
    "temp_f = celsius_to_fahrenheit(temp_c)\n",
    "print(f\"{temp_c}°C = {temp_f}°F\")  # 25°C = 77.0°F"
   ]
  },
  {
   "cell_type": "code",
   "execution_count": null,
   "id": "e5a85294",
   "metadata": {},
   "outputs": [],
   "source": [
    "temp_f\n",
    "temp_f = celsius_to_fahrenheit(temp_c)\n",
    "```\n",
    "\n",
    "**This is where the magic happens!** Let's break it down:\n",
    "\n",
    "1. **`celsius_to_fahrenheit(temp_c)`** - calls our function\n",
    "2. The value `25` (from `temp_c`) is **passed** to the function\n",
    "3. Inside the function, `celsius` parameter receives the value `25`\n",
    "4. The function calculates: `(25 * 9/5) + 32 = 77.0`\n",
    "5. The function returns `77.0`\n",
    "6. The returned value `77.0` is stored in the variable `temp_f`\n",
    "\n",
    "**Visual flow:**\n",
    "```\n",
    "temp_c = 25\n",
    "    ↓\n",
    "celsius_to_fahrenheit(25)\n",
    "    ↓\n",
    "celsius = 25 (inside function)\n",
    "    ↓\n",
    "fahrenheit = (25 * 9/5) + 32 = 77.0\n",
    "    ↓\n",
    "return 77.0\n",
    "    ↓\n",
    "temp_f = 77.0"
   ]
  },
  {
   "cell_type": "markdown",
   "id": "945d4342",
   "metadata": {},
   "source": [
    "⭐ Example 8: Function with Conditional Logic"
   ]
  },
  {
   "cell_type": "code",
   "execution_count": 10,
   "id": "712842b2",
   "metadata": {},
   "outputs": [
    {
     "name": "stdout",
     "output_type": "stream",
     "text": [
      "Adult\n",
      "Minor\n"
     ]
    }
   ],
   "source": [
    "def check_age(age):\n",
    "    if age >= 18:\n",
    "        return \"Adult\"\n",
    "    else:\n",
    "        return \"Minor\"\n",
    "\n",
    "status1 = check_age(20)\n",
    "status2 = check_age(15)\n",
    "\n",
    "print(status1)  # Adult\n",
    "print(status2)  # Minor"
   ]
  },
  {
   "cell_type": "markdown",
   "id": "d1b4d9c0",
   "metadata": {},
   "source": [
    "⭐ Example 9: Function to Check Even/Odd"
   ]
  },
  {
   "cell_type": "code",
   "execution_count": 11,
   "id": "b30d00ad",
   "metadata": {},
   "outputs": [
    {
     "name": "stdout",
     "output_type": "stream",
     "text": [
      "True\n",
      "False\n"
     ]
    }
   ],
   "source": [
    "def is_even(number):\n",
    "    if number % 2 == 0:\n",
    "        return True\n",
    "    else:\n",
    "        return False\n",
    "\n",
    "print(is_even(4))   # True\n",
    "print(is_even(7))   # False"
   ]
  },
  {
   "cell_type": "markdown",
   "id": "8df7a2f2",
   "metadata": {},
   "source": [
    "⭐ Example 10: Function with a Loop"
   ]
  },
  {
   "cell_type": "code",
   "execution_count": 13,
   "id": "4a0baf99",
   "metadata": {},
   "outputs": [
    {
     "name": "stdout",
     "output_type": "stream",
     "text": [
      "5 x 1 = 5\n",
      "5 x 2 = 10\n",
      "5 x 3 = 15\n",
      "5 x 4 = 20\n",
      "5 x 5 = 25\n",
      "5 x 6 = 30\n",
      "5 x 7 = 35\n",
      "5 x 8 = 40\n",
      "5 x 9 = 45\n",
      "5 x 10 = 50\n"
     ]
    }
   ],
   "source": [
    "def print_multiplication_table(number):\n",
    "    for i in range(1, 11):\n",
    "        result = number * i\n",
    "        print(f\"{number} x {i} = {result}\")\n",
    "\n",
    "print_multiplication_table(5)\n",
    "\n",
    "#Output:**\n",
    "#5 x 1 = 5\n",
    "#5 x 2 = 10\n",
    "#5 x 3 = 15\n",
    "#...\n",
    "#5 x 10 = 50"
   ]
  }
 ],
 "metadata": {
  "kernelspec": {
   "display_name": "Python 3",
   "language": "python",
   "name": "python3"
  },
  "language_info": {
   "codemirror_mode": {
    "name": "ipython",
    "version": 3
   },
   "file_extension": ".py",
   "mimetype": "text/x-python",
   "name": "python",
   "nbconvert_exporter": "python",
   "pygments_lexer": "ipython3",
   "version": "3.12.2"
  }
 },
 "nbformat": 4,
 "nbformat_minor": 5
}
