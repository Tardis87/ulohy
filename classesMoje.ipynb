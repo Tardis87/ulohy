{
 "cells": [
  {
   "cell_type": "markdown",
   "id": "6a63da42",
   "metadata": {},
   "source": [
    "Exercise 1: Create a Book Class\n",
    "\n",
    "Create a Book class with:\n",
    "\n",
    "Attributes: title, author, pages\n",
    "Method: description() that returns a string like \"Title by Author, 300 pages\"\n",
    "\n",
    "Test it by creating 2-3 book objects."
   ]
  },
  {
   "cell_type": "code",
   "execution_count": 4,
   "id": "0f31c0c3",
   "metadata": {},
   "outputs": [
    {
     "name": "stdout",
     "output_type": "stream",
     "text": [
      "Zodiac Academy by Autorka, 258\n",
      "Throne of Glass by Sarah J. Maas, 587\n"
     ]
    }
   ],
   "source": [
    "class Book:\n",
    "    def __init__(self, title, author, pages):\n",
    "        self.title = title\n",
    "        self.author = author\n",
    "        self.pages = pages\n",
    "        \n",
    "    def description(self):\n",
    "        return f\"{self.title} by {self.author}, {self.pages}\"\n",
    "\n",
    "book1 = Book(\"Zodiac Academy\", \"Autorka\", 258)\n",
    "book2 = Book(\"Throne of Glass\", \"Sarah J. Maas\", 587)\n",
    "\n",
    "print(book1.description())\n",
    "print(book2.description())\n",
    "        \n",
    "    \n"
   ]
  },
  {
   "cell_type": "markdown",
   "id": "48fb4191",
   "metadata": {},
   "source": [
    "Exercise 2: Rectangle Class\n",
    "\n",
    "\n",
    "Create a Rectangle class with:\n",
    "\n",
    "Attributes: width, height\n",
    "Method: area() that calculates and returns width × height\n",
    "Method: perimeter() that calculates and returns 2 × (width + height)\n",
    "\n",
    "Create a rectangle and print its area and perimeter."
   ]
  },
  {
   "cell_type": "code",
   "execution_count": 10,
   "id": "5d39ade8",
   "metadata": {},
   "outputs": [
    {
     "name": "stdout",
     "output_type": "stream",
     "text": [
      "16\n",
      "20\n"
     ]
    }
   ],
   "source": [
    "class Rectangle:\n",
    "    \n",
    "    def __init__(self, width, height):\n",
    "        self.width = width\n",
    "        self.height = height\n",
    "        \n",
    "    def area(self):\n",
    "        return self.width * self.height\n",
    "    \n",
    "    def perimeter(self):\n",
    "        return 2*(self.width + self.height)\n",
    "    \n",
    "this_rectangle = Rectangle(2, 8)\n",
    "print(this_rectangle.area())\n",
    "print(this_rectangle.perimeter())\n",
    "    \n",
    "\n",
    "    "
   ]
  },
  {
   "cell_type": "markdown",
   "id": "c320d93d",
   "metadata": {},
   "source": [
    "Exercise 3: Student Class\n",
    "\n",
    "\n",
    "Create a Student class with:\n",
    "\n",
    "Attributes: name, grades (start as an empty list)\n",
    "Method: add_grade(grade) to add a grade to the list\n",
    "Method: average() that returns the average of all grades\n",
    "\n",
    "Create a student, add some grades, and print their average."
   ]
  },
  {
   "cell_type": "code",
   "execution_count": 13,
   "id": "e797e135",
   "metadata": {},
   "outputs": [
    {
     "name": "stdout",
     "output_type": "stream",
     "text": [
      "Added grade 1 for Fero\n",
      "Added grade 2 for Fero\n",
      "Average: 1.5\n"
     ]
    }
   ],
   "source": [
    "class Student:\n",
    "    \n",
    "    def __init__(self, name):\n",
    "        self.name = name\n",
    "        self.grades = []\n",
    "        \n",
    "    def add_grade(self, grade):\n",
    "        self.grades.append(grade)\n",
    "        print(f\"Added grade {grade} for {self.name}\")\n",
    "        \n",
    "    def average(self):\n",
    "        if len(self.grades) == 0:\n",
    "            return \"0\"\n",
    "        else:\n",
    "            return sum(self.grades) / len(self.grades)\n",
    "            \n",
    "        \n",
    "my_student = Student(\"Fero\")\n",
    "my_student.add_grade(1)\n",
    "my_student.add_grade(2)  \n",
    "\n",
    "print(f\"Average: {my_student.average()}\")\n",
    "    \n",
    "        "
   ]
  },
  {
   "cell_type": "markdown",
   "id": "c7930426",
   "metadata": {},
   "source": [
    "Exercise 4: Counter Class\n",
    "\n",
    "\n",
    "Create a Counter class with:\n",
    "\n",
    "Attribute: count (starts at 0)\n",
    "Method: increment() that adds 1 to count\n",
    "Method: decrement() that subtracts 1 from count\n",
    "Method: reset() that sets count back to 0\n",
    "Method: get_count() that returns the current count\n",
    "\n",
    "Test all the methods."
   ]
  },
  {
   "cell_type": "code",
   "execution_count": 15,
   "id": "a297c687",
   "metadata": {},
   "outputs": [
    {
     "name": "stdout",
     "output_type": "stream",
     "text": [
      "3\n",
      "2\n",
      "0\n"
     ]
    }
   ],
   "source": [
    "class Counter:\n",
    "    \n",
    "    def __init__(self):\n",
    "        self.count = 0\n",
    "        \n",
    "    def increment(self):\n",
    "        self.count += 1\n",
    "        \n",
    "    def decrement(self):\n",
    "        self.count -= 1\n",
    "        \n",
    "    def reset(self):\n",
    "        self.count = 0\n",
    "        \n",
    "    def get_count(self):\n",
    "         return self.count\n",
    "    \n",
    "# Test it\n",
    "counter = Counter()\n",
    "counter.increment()\n",
    "counter.increment()\n",
    "counter.increment()\n",
    "print(counter.get_count())  # 3\n",
    "counter.decrement()\n",
    "print(counter.get_count())  # 2\n",
    "counter.reset()\n",
    "print(counter.get_count())  # 0"
   ]
  },
  {
   "cell_type": "markdown",
   "id": "d79c5396",
   "metadata": {},
   "source": [
    "Exercise 5: Car Class\n",
    "\n",
    "Create a Car class with:\n",
    "\n",
    "Attributes: brand, model, year, odometer (starts at 0)\n",
    "Method: drive(distance) that adds distance to odometer\n",
    "Method: get_info() that returns car details including odometer reading\n",
    "\n",
    "Create a car, drive it a few times, and print its info."
   ]
  },
  {
   "cell_type": "code",
   "execution_count": 18,
   "id": "a201fe73",
   "metadata": {},
   "outputs": [
    {
     "name": "stdout",
     "output_type": "stream",
     "text": [
      "Brand BMW, Model Co ja viem, from year 2015 with distance 125125\n"
     ]
    }
   ],
   "source": [
    "class Car:\n",
    "    \n",
    "    def __init__(self, brand, model, year):\n",
    "        self.brand = brand\n",
    "        self.model = model\n",
    "        self.year = year\n",
    "        self.odometer = 0\n",
    "        \n",
    "    def drive(self, distance):\n",
    "        self.odometer += distance\n",
    "        \n",
    "    def get_info(self):\n",
    "        return f\"Brand {self.brand}, Model {self.model}, from year {self.year} with distance {self.odometer}\"\n",
    "    \n",
    "my_car = Car(\"BMW\", \"Co ja viem\", 2015)\n",
    "my_car.drive(125125)\n",
    "print(my_car.get_info())"
   ]
  },
  {
   "cell_type": "markdown",
   "id": "db542010",
   "metadata": {},
   "source": [
    "Exercise 6: Password Validator\n",
    "\n",
    "Create a Password class with:\n",
    "\n",
    "Attribute: password\n",
    "Method: is_strong() that returns True if password is at least 8 characters, False otherwise\n",
    "Method: has_number() that checks if password contains at least one digit\n",
    "\n",
    "Create a few password objects and test them.\n",
    "Hint: Use len() for length and any(char.isdigit() for char in self.password) to check for numbers."
   ]
  },
  {
   "cell_type": "code",
   "execution_count": 25,
   "id": "f437be4c",
   "metadata": {},
   "outputs": [
    {
     "name": "stdout",
     "output_type": "stream",
     "text": [
      "Password 14uio  is weak\n",
      "Passwrod 14uio has a digit. good job\n",
      "Password 547pokuhj584 is Strong\n",
      "Passwrod 547pokuhj584 has a digit. good job\n",
      "Password abcdefgh is Strong\n",
      "Warning: Password 'abcdefgh' is missing a number!\n",
      "Passwrod abcdefgh has a digit. good job\n"
     ]
    }
   ],
   "source": [
    "class Password:\n",
    "    \n",
    "    def __init__(self, password):\n",
    "        self.password = password\n",
    "        \n",
    "    \n",
    "    def is_strong(self):\n",
    "        if len(self.password) >= 8:\n",
    "            return f\"Password {self.password} is Strong\"\n",
    "        else:\n",
    "            return f\"Password {self.password}  is weak\"\n",
    "\n",
    "        \n",
    "    def has_number(self):\n",
    "        result = any(char.isdigit() for char in self.password)\n",
    "        if not result:  # If there's NO number\n",
    "            print(f\"Warning: Password '{self.password}' is missing a number!\")\n",
    "        return f\"Passwrod {self.password} has a digit. good job\"\n",
    "        \n",
    "pwd1 = Password(\"14uio\")\n",
    "pwd2 = Password(\"547pokuhj584\")\n",
    "pwd3 = Password(\"abcdefgh\")\n",
    "\n",
    "print(pwd1.is_strong())\n",
    "print(pwd1.has_number())\n",
    "\n",
    "print(pwd2.is_strong())\n",
    "print(pwd2.has_number())\n",
    "\n",
    "print(pwd3.is_strong())\n",
    "print(pwd3.has_number())"
   ]
  },
  {
   "cell_type": "markdown",
   "id": "c50f43b0",
   "metadata": {},
   "source": [
    "Exercise 7: Shopping Cart\n",
    "\n",
    "\n",
    "Create a ShoppingCart class with:\n",
    "\n",
    "Attribute: items (empty list to start)\n",
    "Method: add_item(item, price) that adds a dictionary like {\"item\": item, \"price\": price} to the list\n",
    "Method: total() that returns the sum of all item prices\n",
    "Method: show_items() that prints all items"
   ]
  },
  {
   "cell_type": "code",
   "execution_count": null,
   "id": "9c18b7c7",
   "metadata": {},
   "outputs": [],
   "source": []
  },
  {
   "cell_type": "markdown",
   "id": "5f5d76ad",
   "metadata": {},
   "source": [
    "Exercise 8: Temperature Converter\n",
    "\n",
    "\n",
    "Create a Temperature class with:\n",
    "\n",
    "Attribute: celsius\n",
    "Method: to_fahrenheit() that converts celsius to fahrenheit (formula: C × 9/5 + 32)\n",
    "Method: to_kelvin() that converts celsius to kelvin (formula: C + 273.15)"
   ]
  }
 ],
 "metadata": {
  "kernelspec": {
   "display_name": "Python 3",
   "language": "python",
   "name": "python3"
  },
  "language_info": {
   "codemirror_mode": {
    "name": "ipython",
    "version": 3
   },
   "file_extension": ".py",
   "mimetype": "text/x-python",
   "name": "python",
   "nbconvert_exporter": "python",
   "pygments_lexer": "ipython3",
   "version": "3.12.2"
  }
 },
 "nbformat": 4,
 "nbformat_minor": 5
}
