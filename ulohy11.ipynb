{
 "cells": [
  {
   "cell_type": "markdown",
   "id": "2c45989c",
   "metadata": {},
   "source": [
    "⭐ **Úloha 03**\n",
    "\n",
    "Definuj variably `x`, `y` a `z` tak, aby bol každý iného typu. Printni ich typy."
   ]
  },
  {
   "cell_type": "code",
   "execution_count": 2,
   "id": "2601cae5",
   "metadata": {},
   "outputs": [
    {
     "name": "stdout",
     "output_type": "stream",
     "text": [
      "<class 'str'> <class 'bool'> <class 'float'>\n"
     ]
    }
   ],
   "source": [
    "x = \"Koracinka\"\n",
    "y = True\n",
    "z = 5.12\n",
    "\n",
    "print(type(x), type(y), type(z))"
   ]
  },
  {
   "cell_type": "markdown",
   "id": "7c70db23",
   "metadata": {},
   "source": [
    "⭐ **Úloha 04**\n",
    "\n",
    "Napíš program, ktorý printne súčin dvoch súčtov.\n"
   ]
  },
  {
   "cell_type": "code",
   "execution_count": 3,
   "id": "d0473e3d",
   "metadata": {},
   "outputs": [
    {
     "name": "stdout",
     "output_type": "stream",
     "text": [
      "60\n"
     ]
    }
   ],
   "source": [
    "x = 2 + 3\n",
    "y = 5 + 7\n",
    "\n",
    "sucin = x * y\n",
    "print(sucin)"
   ]
  },
  {
   "cell_type": "markdown",
   "id": "3fedf762",
   "metadata": {},
   "source": [
    "⭐ **Úloha 05**\n",
    "\n",
    "Sporiaci účet má na počiatku $1000. Majiteľka pridáva $100 každý mesiac pri 2.1% úrokovej sadzbe (počítanej mesačne). Printni sumu nasporenú po 2 rokoch.\n"
   ]
  },
  {
   "cell_type": "code",
   "execution_count": 5,
   "id": "9273de00",
   "metadata": {},
   "outputs": [
    {
     "name": "stdout",
     "output_type": "stream",
     "text": [
      "3471.4\n"
     ]
    }
   ],
   "source": [
    "account = 1000\n",
    "account_rok = 100 * 12\n",
    "urok = (account + 2 * account_rok)*0.021\n",
    "sum_years = account + 2 * account_rok + urok\n",
    "\n",
    "print(sum_years)"
   ]
  },
  {
   "cell_type": "markdown",
   "id": "4691b59e",
   "metadata": {},
   "source": [
    "⭐ **Úloha 06**\n",
    "\n",
    "Vytvor samostatné variably pre rôzne typy osobných údajov (meno, dátum narodenia, email atď.). Printni tieto údaje ako vizitku (\"meno: John, vek: 23, atď.\")"
   ]
  },
  {
   "cell_type": "code",
   "execution_count": 8,
   "id": "085b6e77",
   "metadata": {},
   "outputs": [
    {
     "name": "stdout",
     "output_type": "stream",
     "text": [
      "Koracinka, koriandrovska, 21.6.2021, satanas.maly@gmail.com\n"
     ]
    }
   ],
   "source": [
    "name = \"Koracinka\"\n",
    "last_name = \"koriandrovska\"\n",
    "birth_date = \"21.6.2021\"\n",
    "email = \"satanas.maly@gmail.com\"\n",
    "\n",
    "print(name + \", \" + last_name +  \", \" + birth_date  + \", \" + email)"
   ]
  },
  {
   "cell_type": "markdown",
   "id": "2f933fac",
   "metadata": {},
   "source": [
    "⭐ **Úloha 07**\n",
    "\n",
    "Vytvor dva variably, jeden s hodinovou mzdou a jeden s odpracovanými hodinami. Printni hrubú mzdu a mzdu po 23% dani."
   ]
  },
  {
   "cell_type": "code",
   "execution_count": 1,
   "id": "1446a89b",
   "metadata": {},
   "outputs": [
    {
     "name": "stdout",
     "output_type": "stream",
     "text": [
      "250 192.5\n"
     ]
    }
   ],
   "source": [
    "hodinova_mzda = 25\n",
    "odpracovane_hodiny = 10\n",
    "hruba_mzda = hodinova_mzda * odpracovane_hodiny\n",
    "cista_mzda = hruba_mzda * (1 - 0.23)\n",
    "\n",
    "print(hruba_mzda, cista_mzda)"
   ]
  },
  {
   "cell_type": "markdown",
   "id": "8a7ea42a",
   "metadata": {},
   "source": [
    "⭐ **Úloha 08**\n",
    "\n",
    "Sporiaci účet má na počiatku $1000. Majiteľka pridáva $100 každý mesiac pri 2.1% úrokovej sadzbe (počítanej mesačne). Printni sumu nasporenú po 2 rokoch."
   ]
  },
  {
   "cell_type": "markdown",
   "id": "a71a0df6",
   "metadata": {},
   "source": [
    "⭐ **Úloha 09**\n",
    "\n",
    "Priraď `3749` k variablu s názvom `seconds`, potom printni počet hodín a minút bez použitia operátorov * (násobenie) alebo / (delenie)."
   ]
  },
  {
   "cell_type": "code",
   "execution_count": 9,
   "id": "0bd29f11",
   "metadata": {},
   "outputs": [
    {
     "name": "stdout",
     "output_type": "stream",
     "text": [
      "1 2 29\n"
     ]
    }
   ],
   "source": [
    "seconds = 3749\n",
    "\n",
    "hours = seconds // 60 // 60\n",
    "minutes = (seconds - hours * 60 * 60) // 60\n",
    "seconds = seconds - hours * 60 * 60 - minutes * 60\n",
    "\n",
    "\n",
    "\n",
    "print (hours, minutes, seconds)\n"
   ]
  },
  {
   "cell_type": "markdown",
   "id": "dc0486d6",
   "metadata": {},
   "source": [
    "⭐ **Úloha 10**\n",
    "\n",
    "01/01/2025 padol na stredu. Použi operátory na výpočet toho, na ktorý deň v týždni padol 175. deň roku 2025."
   ]
  },
  {
   "cell_type": "code",
   "execution_count": 16,
   "id": "bac654f9",
   "metadata": {},
   "outputs": [
    {
     "name": "stdout",
     "output_type": "stream",
     "text": [
      "2\n"
     ]
    }
   ],
   "source": [
    "start_day = 3\n",
    "days_week = 7\n",
    "day = 175\n",
    "\n",
    "week_day = (start_day + day - 1) % days_week\n",
    "print(week_day)"
   ]
  },
  {
   "cell_type": "markdown",
   "id": "d2fa9021",
   "metadata": {},
   "source": [
    "⭐ **Úloha 11**\n",
    "\n",
    "\n",
    "Boolean variable `quartered` ukladá, či je číslo 4792 deliteľné 4. Printni hodnotu `quartered`."
   ]
  },
  {
   "cell_type": "code",
   "execution_count": 22,
   "id": "c65bb427",
   "metadata": {},
   "outputs": [
    {
     "name": "stdout",
     "output_type": "stream",
     "text": [
      "True\n",
      "False\n"
     ]
    }
   ],
   "source": [
    "number = (4792 %4 == 0)\n",
    "number2 = (4793 %4 == 0)\n",
    "\n",
    "print(number)\n",
    "print(number2)"
   ]
  },
  {
   "cell_type": "markdown",
   "id": "c5037a81",
   "metadata": {},
   "source": [
    "⭐ **Úloha 12**\n",
    "\n",
    "V recepte sa píše, že 4 šálky múky a stačia na 5 ľudí. Vyškáluj recept tak, aby vyšiel na 7 ľudí. Porovnaj výsledky, keď počet šálok uložíš ako integer verzus float."
   ]
  },
  {
   "cell_type": "code",
   "execution_count": 26,
   "id": "7eea3fa0",
   "metadata": {},
   "outputs": [
    {
     "name": "stdout",
     "output_type": "stream",
     "text": [
      "5.6000000000000005\n",
      "5\n"
     ]
    }
   ],
   "source": [
    "salky = 4\n",
    "ludia = 5\n",
    "\n",
    "ludia2 = 7\n",
    "\n",
    "\n",
    "x = (salky/ludia)*ludia2\n",
    "\n",
    "print(x)\n",
    "print(int(x))\n"
   ]
  },
  {
   "cell_type": "markdown",
   "id": "d5ec81e0",
   "metadata": {},
   "source": [
    "⭐ **Úloha 13**\n",
    "\n",
    "\n",
    "Vytvor variable `age` s (realistickým) vekom. Vytvor variable, ktorý ukladá True, ak je vek nad 18, inak False. Printni výsledok."
   ]
  },
  {
   "cell_type": "code",
   "execution_count": 32,
   "id": "eb925a69",
   "metadata": {},
   "outputs": [
    {
     "name": "stdout",
     "output_type": "stream",
     "text": [
      "True\n",
      "False\n"
     ]
    }
   ],
   "source": [
    "age = 38\n",
    "adult = age > 18\n",
    "adult2 = age < 18\n",
    "\n",
    "print(adult)\n",
    "print(adult2)"
   ]
  },
  {
   "cell_type": "markdown",
   "id": "f61ed2e1",
   "metadata": {},
   "source": [
    "⭐ **Úloha 14**\n",
    "\n",
    "Vytvor dva variables, jeden s počtom cookies a jeden s počtom ľudí, ktorí prídu. Vytvor boolean, ktorí ukladá True ak každý človek dostane aspoň jeden cookie, inak False. Printni výsledok."
   ]
  },
  {
   "cell_type": "code",
   "execution_count": 34,
   "id": "8238a819",
   "metadata": {},
   "outputs": [
    {
     "name": "stdout",
     "output_type": "stream",
     "text": [
      "True\n",
      "False\n"
     ]
    }
   ],
   "source": [
    "cookies = 20\n",
    "people = 2\n",
    "\n",
    "hunger = (cookies / people) > 1\n",
    "print(hunger)\n",
    "\n",
    "cookies = 8\n",
    "people = 10\n",
    "\n",
    "hunger = (cookies / people) > 1\n",
    "print(hunger)"
   ]
  },
  {
   "cell_type": "markdown",
   "id": "39a20ed3",
   "metadata": {},
   "source": [
    "**Úloha 15**\n",
    "\n",
    "Počasie sa považuje za 'nepríjemné', ak teplota klesne pod 17 alebo stúpne nad 27. Ulož teplotu ako `x` a vytvor boolean variable s názvom `unpleasant`, ktorá vyhodnotí, či je počasie nepríjemné."
   ]
  },
  {
   "cell_type": "code",
   "execution_count": 44,
   "id": "e0b7a350",
   "metadata": {},
   "outputs": [
    {
     "name": "stdout",
     "output_type": "stream",
     "text": [
      "True\n"
     ]
    }
   ],
   "source": [
    "teplota = -1\n",
    "neprijemne1 = (teplota > 27) or (teplota < 17)\n",
    "\n",
    "print(neprijemne1)\n"
   ]
  }
 ],
 "metadata": {
  "kernelspec": {
   "display_name": "Python 3",
   "language": "python",
   "name": "python3"
  },
  "language_info": {
   "codemirror_mode": {
    "name": "ipython",
    "version": 3
   },
   "file_extension": ".py",
   "mimetype": "text/x-python",
   "name": "python",
   "nbconvert_exporter": "python",
   "pygments_lexer": "ipython3",
   "version": "3.12.2"
  }
 },
 "nbformat": 4,
 "nbformat_minor": 5
}
