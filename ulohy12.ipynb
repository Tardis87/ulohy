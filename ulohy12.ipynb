{
 "cells": [
  {
   "cell_type": "markdown",
   "id": "7764c3dc",
   "metadata": {},
   "source": [
    "Uloha1\n",
    "\n",
    "Použi control flows na printnutie svojho mena presne 11 krát."
   ]
  },
  {
   "cell_type": "code",
   "execution_count": 9,
   "id": "560bf6ef",
   "metadata": {},
   "outputs": [
    {
     "name": "stdout",
     "output_type": "stream",
     "text": [
      "Andrea\n",
      "Andrea\n",
      "Andrea\n",
      "Andrea\n",
      "Andrea\n",
      "Andrea\n",
      "Andrea\n",
      "Andrea\n",
      "Andrea\n",
      "Andrea\n",
      "Andrea\n"
     ]
    }
   ],
   "source": [
    "count = 1\n",
    "while count < 12:\n",
    "    print(\"Andrea\")\n",
    "    count += 1\n",
    "\n",
    "\n"
   ]
  },
  {
   "cell_type": "markdown",
   "id": "43a4b516",
   "metadata": {},
   "source": [
    "Uloha 2\n",
    "\n",
    "Použi control flows na printnutie každého násobku 3 medzi 2 a 22."
   ]
  },
  {
   "cell_type": "code",
   "execution_count": 13,
   "id": "ff0feebe",
   "metadata": {},
   "outputs": [
    {
     "name": "stdout",
     "output_type": "stream",
     "text": [
      "3\n",
      "6\n",
      "9\n",
      "12\n",
      "15\n",
      "18\n",
      "21\n"
     ]
    }
   ],
   "source": [
    "for x in range(2, 24):\n",
    "    if x % 3 == 0:\n",
    "        print(x)\n",
    "    # modulo: to mi tam hovori ze ak zvysok delnia cisla x je nulovy, tak je delitelne trojkou.. cizeee vyprintuje vsetko v range\n",
    "    # co je delitelne 3"
   ]
  },
  {
   "cell_type": "markdown",
   "id": "f406002d",
   "metadata": {},
   "source": [
    "Uloha 3\n",
    "\n",
    "Vytvor variable score s hodnotou medzi 0 a 100. Použi control flows na priradenie známky (A: 90-100, B: 80-89, C: 70-79, D: 60-69, F: pod 60)."
   ]
  },
  {
   "cell_type": "code",
   "execution_count": 18,
   "id": "994bab8e",
   "metadata": {},
   "outputs": [
    {
     "name": "stdout",
     "output_type": "stream",
     "text": [
      "A\n"
     ]
    }
   ],
   "source": [
    "score = 99\n",
    "\n",
    "if score >=90:\n",
    "    print(\"A\")\n",
    "elif score >=80:\n",
    "    print(\"B\")\n",
    "elif score >=70:\n",
    "    print(\"C\")\n",
    "elif score >=60:\n",
    "    print(\"D\")\n",
    "else:\n",
    "    print(\"F\")   \n"
   ]
  },
  {
   "cell_type": "markdown",
   "id": "d1445770",
   "metadata": {},
   "source": [
    "Uloha 4\n",
    "\n",
    "Vytvor list s 5 rôznymi farbami. Vytvor boolean variable has_red, ktorý je True, ak list obsahuje červenú, inak False. Printni výsledok."
   ]
  },
  {
   "cell_type": "code",
   "execution_count": 27,
   "id": "650d66a9",
   "metadata": {},
   "outputs": [
    {
     "name": "stdout",
     "output_type": "stream",
     "text": [
      "True\n",
      "False\n"
     ]
    }
   ],
   "source": [
    "my_color = [\"red\", \"green\", \"blue\", \"yellow\", \"black\"]\n",
    "\n",
    "has_red = 'red' in my_color\n",
    "print(bool(has_red))\n",
    "\n",
    "\n",
    "#check ci vyhodi aj false , ci som to nahodou nedoserkala niekde\n",
    "\n",
    "my_colors = [\"green\", \"blue\", \"yellow\", \"black\"]\n",
    "\n",
    "has_red = 'red' in my_colors\n",
    "print(bool(has_red))\n"
   ]
  },
  {
   "cell_type": "markdown",
   "id": "174916f3",
   "metadata": {},
   "source": [
    "Uloha 5 / TOTO NEVIEM\n",
    "\n",
    "Vytvor list boolean náhodných True alebo False hodnôt. Vypočítaj a printni percento True prvkov.\n",
    "\n",
    "Make a list of boolean values representing quiz answers. Calculate and print the percentage of True answers."
   ]
  },
  {
   "cell_type": "code",
   "execution_count": 57,
   "id": "373aa3b4",
   "metadata": {},
   "outputs": [
    {
     "ename": "SyntaxError",
     "evalue": "cannot assign to expression here. Maybe you meant '==' instead of '='? (1497801136.py, line 7)",
     "output_type": "error",
     "traceback": [
      "  \u001b[36mCell\u001b[39m\u001b[36m \u001b[39m\u001b[32mIn[57]\u001b[39m\u001b[32m, line 7\u001b[39m\n\u001b[31m    \u001b[39m\u001b[31mTrue_Answers + False_Answers = y\u001b[39m\n    ^\n\u001b[31mSyntaxError\u001b[39m\u001b[31m:\u001b[39m cannot assign to expression here. Maybe you meant '==' instead of '='?\n"
     ]
    }
   ],
   "source": [
    "answers = [True, False, True, True, True, False]\n",
    "\n",
    "\n",
    "True_Answers = 4\n",
    "False_Answers = 2\n",
    "\n",
    "True_Answers + False_Answers = y\n",
    "y / 100 * True_Answers = x\n",
    "\n",
    "print(x + \"%\")\n"
   ]
  },
  {
   "cell_type": "markdown",
   "id": "5296b204",
   "metadata": {},
   "source": [
    "Uloha 6 ANI tOTO NEVIEM\n",
    "\n",
    "Vytvor list floating-point čísel. Uprav list tak, aby každé číslo bolo zaokrúhlené na 2 desatinné miesta.\n",
    "\n",
    "Create a list of floating-point numbers. Modify the list so that every number is rounded up to 2 decimal places."
   ]
  },
  {
   "cell_type": "code",
   "execution_count": null,
   "id": "bf467441",
   "metadata": {},
   "outputs": [],
   "source": [
    "\n",
    "\n",
    "\n",
    "numbers = [3.258, 4.896, 6.58745]\n",
    "\n"
   ]
  },
  {
   "cell_type": "markdown",
   "id": "218172ef",
   "metadata": {},
   "source": [
    "Uloha 7\n",
    "\n",
    "Vytvor set s číslami 1 až 20. Odstráň všetky čísla deliteľné 4 a printni zostávajúci set."
   ]
  },
  {
   "cell_type": "code",
   "execution_count": 48,
   "id": "a2e383c2",
   "metadata": {},
   "outputs": [
    {
     "name": "stdout",
     "output_type": "stream",
     "text": [
      "{1, 2, 3, 4, 5, 6, 7, 8, 9, 10, 11, 12, 13, 14, 15, 16, 17, 18, 19, 20}\n",
      "{4, 8, 12, 16, 20}\n",
      "{1, 2, 3, 5, 6, 7, 9, 10, 11, 13, 14, 15, 17, 18, 19}\n"
     ]
    }
   ],
   "source": [
    "numbers = {x for x in range(1, 21)} #toto sa mi podarilo nejak vygooglit, Comprehension, este si to pozriet lepsie!! ale nejak to funguje\n",
    "print(numbers)\n",
    "\n",
    "new_numbers = {x for x in numbers if x %4==0 } # kedze som napisala ze nema ostat ostatok, tak vypise len delitelne styrkou\n",
    "print(new_numbers)\n",
    "\n",
    "new_numbers2 = {x for x in numbers if x %4 } #printe cisla nedelitelne styrkou\n",
    "print(new_numbers2)\n",
    "\n",
    "# Ale asi bolo treba spravit nieco inak aby to len neprintilo ale removlo uz zo setu priamo nieco??\n"
   ]
  },
  {
   "cell_type": "markdown",
   "id": "83c5ae78",
   "metadata": {},
   "source": [
    "Uloha 8\n",
    "\n",
    "Vytvor dva sets, a a b, každý so 7 číslami medzi 0 a 9. Teraz vytvor set c, ktorý obsahuje hodnoty z a bez hodnôt, ktoré sa tiež vyskytujú v b."
   ]
  },
  {
   "cell_type": "code",
   "execution_count": null,
   "id": "0e79af2c",
   "metadata": {},
   "outputs": [
    {
     "name": "stdout",
     "output_type": "stream",
     "text": [
      "{1, 4, 5, 6, 7}\n"
     ]
    }
   ],
   "source": [
    "set_a = {1, 2, 3, 4, 5, 6, 7}\n",
    "set_b = {2, 3}\n",
    "\n",
    "set_c = set_a.difference(set_b)\n",
    "print(set_c)\n",
    "\n",
    "#  The difference() method returns a set that contains the difference between two sets.\n",
    "#  Meaning: The returned set contains items that exist only in the first set, and not in both sets."
   ]
  },
  {
   "cell_type": "markdown",
   "id": "48ab93b2",
   "metadata": {},
   "source": [
    "Uloha 9\n",
    "\n",
    "Vytvor variable day_idx s hodnotou medzi 1 a 365. Použi control flows na určenie toho, ktorý deň v týždni to je. (Hint: Zváž ako vieš využiť modulo operátor pri hľadaní vzoru.)\n",
    "\n",
    "Create a variable day_idx with a value between 1 and 365. Use control flows to determine which day of the week it is. (Hint: Consider using the modulo operator to find the pattern.)"
   ]
  },
  {
   "cell_type": "code",
   "execution_count": null,
   "id": "e1c5d922",
   "metadata": {},
   "outputs": [],
   "source": [
    "\n",
    "# NETUSIM, nieco tam bude s %7 ale neviema ako kde :D\n"
   ]
  },
  {
   "cell_type": "markdown",
   "id": "a29619e7",
   "metadata": {},
   "source": [
    "Uloha 10\n",
    "\n",
    "Vytvor list stringov reprezentujúcich názvy súborov (aj s koncovkami ako '.pdf', '.txt', '.jpg', '.docx' atď.). Použi loops na odfiltrovanie stringov, ktoré nereprezentujú textové súbory a printni výsledok.\n",
    "\n",
    "Create a list of strings representing file names (include endings like .pdf, .txt, .jpg, .docx etc.). Use iterators to filter out strings not representing text files and print the result.\n",
    "\n"
   ]
  },
  {
   "cell_type": "code",
   "execution_count": 32,
   "id": "5e010bed",
   "metadata": {},
   "outputs": [
    {
     "name": "stdout",
     "output_type": "stream",
     "text": [
      "['zuvacka.pdf', 'hodiny.txt', 'macka.docx']\n"
     ]
    }
   ],
   "source": [
    "file_names = [\"zuvacka.pdf\", \"hodiny.txt\", \"obrazok.jpg\", \"macka.docx\", \"hudba.mp3\"]  \n",
    "text_files = (\"pdf\", \"txt\", \"docx\" ) # nemoze byt list, aby mi to neskor spracovalo s tym endswith\n",
    "text_final = []\n",
    "\n",
    "for x in file_names:                # cekne mi co mam v zozname file_names\n",
    "    if x.endswith(text_files):      # ak to co je vo file_names konci na to co je v text files:\n",
    "        text_final.append(x)        # pridaj co sa zhoduje do zoznamu text_final\n",
    "        \n",
    "print(text_final)   \n",
    "          "
   ]
  },
  {
   "cell_type": "code",
   "execution_count": null,
   "id": "187952e6",
   "metadata": {},
   "outputs": [
    {
     "name": "stdout",
     "output_type": "stream",
     "text": [
      "['zuvacka.pdf', 'hodiny.txt', 'macka.docx']\n"
     ]
    }
   ],
   "source": [
    "# spraveny zoznam, pomocou__contains checkovanie pomocou separatnych ifov (neslo nijak spolu naraz :D) ci sa nachadza ta cast slova \n",
    "# v zozname , ak ano tak sa prida to slovo cele do noveho zoznamu.. na konci sa to printne\n",
    "\n",
    "file_names = [\"zuvacka.pdf\", \"hodiny.txt\", \"obrazok.jpg\", \"macka.docx\", \"hudba.mp3\"]  \n",
    "\n",
    "text_final = []\n",
    "\n",
    "for x in file_names:\n",
    "    if x.__contains__(\"pdf\"):\n",
    "        text_final.append(x)\n",
    "    if x.__contains__(\"txt\"):\n",
    "        text_final.append(x)\n",
    "    if x.__contains__(\"docx\"):\n",
    "        text_final.append(x)\n",
    "        \n",
    "        \n",
    "print(text_final)"
   ]
  },
  {
   "cell_type": "code",
   "execution_count": null,
   "id": "535754bd",
   "metadata": {},
   "outputs": [
    {
     "name": "stdout",
     "output_type": "stream",
     "text": [
      "Yes! Geeks-13 is containing.\n",
      "Yes! Geeks-78 is containing.\n"
     ]
    }
   ],
   "source": [
    "# toto bol vzor co som niekde nasla k ulohe 10 ako priklad na __contains__, necham si to tu na inspiration\n",
    "\n",
    "a = ['Geeks-13', 'for-56', 'Geeks-78', 'xyz-46']\n",
    "for i in a:\n",
    "    if i.__contains__(\"Geeks\"):\n",
    "        print(f\"Yes! {i} is containing.\")"
   ]
  },
  {
   "cell_type": "markdown",
   "id": "97fc4601",
   "metadata": {},
   "source": [
    "Uloha 11\n",
    "\n",
    "\n",
    "Vytvor list 10 náhodných integers. Nájdi a printni druhé najväčšie číslo."
   ]
  },
  {
   "cell_type": "code",
   "execution_count": null,
   "id": "d3111ebf",
   "metadata": {},
   "outputs": [
    {
     "name": "stdout",
     "output_type": "stream",
     "text": [
      "[666, 369, 100, 68, 28, 15, 11, 1]\n",
      "369\n"
     ]
    }
   ],
   "source": [
    "number = [15, 28, 369, 1, 68, 11, 100, 666]  #randomne cisla v zozname\n",
    "\n",
    "number.sort(reverse=True)                  # cez sort zoradim od najvacsieho po najmensie\n",
    "print(number) \n",
    "print(number[1])                           #printujem cislo s indexom jedna. kedze sa zacina od nuly,druhe najvyssie cislo bude mat 1\n",
    "\n",
    "# Gut Schuschen"
   ]
  },
  {
   "cell_type": "markdown",
   "id": "1c838dcc",
   "metadata": {},
   "source": [
    "Uloha 12\n",
    "\n",
    "\n",
    "Vytvor list obsahujúci dictionaries, kde každý dictionary reprezentuje osobu s menom a vekom. Vypočítaj a printni priemerný vek."
   ]
  },
  {
   "cell_type": "code",
   "execution_count": null,
   "id": "b6008e05",
   "metadata": {},
   "outputs": [
    {
     "name": "stdout",
     "output_type": "stream",
     "text": [
      "[{'name': 'Ada', 'age': 38}, {'name': 'Vladis', 'age': 10}, {'name': 'Kora', 'age': 4}]\n"
     ]
    }
   ],
   "source": [
    "people_dict = [\n",
    "    {\"name\": \"Ada\", \"age\": 38},\n",
    "    {\"name\": \"Vladis\", \"age\": 10},\n",
    "    {\"name\": \"Kora\", \"age\": 4}\n",
    "]\n",
    "\n",
    "print(people_dict)\n",
    "\n",
    "priem_vek = ()\n",
    "\n"
   ]
  }
 ],
 "metadata": {
  "kernelspec": {
   "display_name": "Python 3",
   "language": "python",
   "name": "python3"
  },
  "language_info": {
   "codemirror_mode": {
    "name": "ipython",
    "version": 3
   },
   "file_extension": ".py",
   "mimetype": "text/x-python",
   "name": "python",
   "nbconvert_exporter": "python",
   "pygments_lexer": "ipython3",
   "version": "3.14.0"
  }
 },
 "nbformat": 4,
 "nbformat_minor": 5
}
